{
  "nbformat": 4,
  "nbformat_minor": 0,
  "metadata": {
    "colab": {
      "provenance": []
    },
    "kernelspec": {
      "name": "python3",
      "display_name": "Python 3"
    },
    "language_info": {
      "name": "python"
    }
  },
  "cells": [
    {
      "cell_type": "code",
      "execution_count": null,
      "metadata": {
        "id": "s-c2Nq_nNHfu"
      },
      "outputs": [],
      "source": [
        "import glob\n",
        "import shutil\n",
        "import cv2 \n",
        "from PIL import Image\n",
        "import PIL\n",
        "import os\n",
        "import numpy as np\n",
        "import pandas as pd\n",
        "import matplotlib.pyplot as plt\n",
        "import seaborn as sns\n",
        "import random \n",
        "from sklearn.model_selection import train_test_split\n",
        "\n",
        "import warnings\n",
        "# Ignore waring\n",
        "warnings.filterwarnings('ignore')\n"
      ]
    },
    {
      "cell_type": "code",
      "source": [
        "from google.colab import drive\n",
        "drive.mount('/content/drive')"
      ],
      "metadata": {
        "colab": {
          "base_uri": "https://localhost:8080/"
        },
        "id": "8MsjQSeMSvIt",
        "outputId": "b1614e7b-d038-410d-934a-be8e7ff048de"
      },
      "execution_count": null,
      "outputs": [
        {
          "output_type": "stream",
          "name": "stdout",
          "text": [
            "Drive already mounted at /content/drive; to attempt to forcibly remount, call drive.mount(\"/content/drive\", force_remount=True).\n"
          ]
        }
      ]
    },
    {
      "cell_type": "code",
      "source": [
        "emotion_path = ['/angry/*', '/disgust/*', '/fear/*', '/happy/*', '/sad/*', '/surprise/*', '/neutral/*']\n"
      ],
      "metadata": {
        "id": "_JAMSA3uTFG9"
      },
      "execution_count": null,
      "outputs": []
    },
    {
      "cell_type": "code",
      "source": [
        " train_path = '/content/drive/MyDrive/Machine Learning/emotions/train'\n"
      ],
      "metadata": {
        "id": "iRYC38ZIVxly"
      },
      "execution_count": null,
      "outputs": []
    },
    {
      "cell_type": "code",
      "source": [
        "X = []\n",
        "y= []\n",
        "for i, path in enumerate(emotion_path):\n",
        "  for name in glob.glob(train_path+path):\n",
        "    img = cv2.imread(name)\n",
        "    img = cv2.cvtColor(img, cv2.COLOR_BGR2GRAY)\n",
        "    img = cv2.resize(img, (50,50))\n",
        "    X.append((img))\n",
        "    y.append(i)\n",
        "len(X)\n"
      ],
      "metadata": {
        "colab": {
          "base_uri": "https://localhost:8080/",
          "height": 235
        },
        "id": "cv_zYMQKW5Lm",
        "outputId": "1b26f7f2-7f6f-4d7d-c4a8-e2cd21df000b"
      },
      "execution_count": 3,
      "outputs": [
        {
          "output_type": "error",
          "ename": "NameError",
          "evalue": "ignored",
          "traceback": [
            "\u001b[0;31m---------------------------------------------------------------------------\u001b[0m",
            "\u001b[0;31mNameError\u001b[0m                                 Traceback (most recent call last)",
            "\u001b[0;32m<ipython-input-3-4b02cc1adfa1>\u001b[0m in \u001b[0;36m<cell line: 3>\u001b[0;34m()\u001b[0m\n\u001b[1;32m      1\u001b[0m \u001b[0mX\u001b[0m \u001b[0;34m=\u001b[0m \u001b[0;34m[\u001b[0m\u001b[0;34m]\u001b[0m\u001b[0;34m\u001b[0m\u001b[0;34m\u001b[0m\u001b[0m\n\u001b[1;32m      2\u001b[0m \u001b[0my\u001b[0m\u001b[0;34m=\u001b[0m \u001b[0;34m[\u001b[0m\u001b[0;34m]\u001b[0m\u001b[0;34m\u001b[0m\u001b[0;34m\u001b[0m\u001b[0m\n\u001b[0;32m----> 3\u001b[0;31m \u001b[0;32mfor\u001b[0m \u001b[0mi\u001b[0m\u001b[0;34m,\u001b[0m \u001b[0mpath\u001b[0m \u001b[0;32min\u001b[0m \u001b[0menumerate\u001b[0m\u001b[0;34m(\u001b[0m\u001b[0memotion_path\u001b[0m\u001b[0;34m)\u001b[0m\u001b[0;34m:\u001b[0m\u001b[0;34m\u001b[0m\u001b[0;34m\u001b[0m\u001b[0m\n\u001b[0m\u001b[1;32m      4\u001b[0m   \u001b[0;32mfor\u001b[0m \u001b[0mname\u001b[0m \u001b[0;32min\u001b[0m \u001b[0mglob\u001b[0m\u001b[0;34m.\u001b[0m\u001b[0mglob\u001b[0m\u001b[0;34m(\u001b[0m\u001b[0mtrain_path\u001b[0m\u001b[0;34m+\u001b[0m\u001b[0memotion_path\u001b[0m\u001b[0;34m)\u001b[0m\u001b[0;34m:\u001b[0m\u001b[0;34m\u001b[0m\u001b[0;34m\u001b[0m\u001b[0m\n\u001b[1;32m      5\u001b[0m     \u001b[0mimg\u001b[0m \u001b[0;34m=\u001b[0m \u001b[0mcv2\u001b[0m\u001b[0;34m.\u001b[0m\u001b[0mimread\u001b[0m\u001b[0;34m(\u001b[0m\u001b[0mname\u001b[0m\u001b[0;34m)\u001b[0m\u001b[0;34m\u001b[0m\u001b[0;34m\u001b[0m\u001b[0m\n",
            "\u001b[0;31mNameError\u001b[0m: name 'emotion_path' is not defined"
          ]
        }
      ]
    },
    {
      "cell_type": "code",
      "source": [
        "# chuyen du lieu sang narray()\n",
        "X = np.array(X)\n",
        "y = np.array(y)\n",
        "print(X.shape)\n",
        "print(y.shape)"
      ],
      "metadata": {
        "colab": {
          "base_uri": "https://localhost:8080/"
        },
        "id": "a02SkqWWYzE3",
        "outputId": "8f65e9c8-0ceb-4456-d6fb-8e0220f2b413"
      },
      "execution_count": null,
      "outputs": [
        {
          "output_type": "stream",
          "name": "stdout",
          "text": [
            "(28821, 50, 50)\n",
            "(28821,)\n"
          ]
        }
      ]
    },
    {
      "cell_type": "code",
      "source": [
        "print(y[0])\n",
        "plt.imshow(X[0],cmap='gray')"
      ],
      "metadata": {
        "colab": {
          "base_uri": "https://localhost:8080/",
          "height": 467
        },
        "id": "Q68Hxx_I1tIO",
        "outputId": "194f1e33-7f41-448b-943b-06cc70c69aaf"
      },
      "execution_count": null,
      "outputs": [
        {
          "output_type": "stream",
          "name": "stdout",
          "text": [
            "0\n"
          ]
        },
        {
          "output_type": "execute_result",
          "data": {
            "text/plain": [
              "<matplotlib.image.AxesImage at 0x7f28254fee80>"
            ]
          },
          "metadata": {},
          "execution_count": 18
        },
        {
          "output_type": "display_data",
          "data": {
            "text/plain": [
              "<Figure size 640x480 with 1 Axes>"
            ],
            "image/png": "[encoded data removed]"
          },
          "metadata": {}
        }
      ]
    },
    {
      "cell_type": "markdown",
      "source": [
        "Chia dữ liệu thành train và test"
      ],
      "metadata": {
        "id": "YFcAE1OeYUgj"
      }
    },
    {
      "cell_type": "code",
      "source": [
        "(X_train,X_test,y_train,y_test) = train_test_split(X,y,test_size=0.2,random_state=100)"
      ],
      "metadata": {
        "id": "oL1J2j3jYDvG"
      },
      "execution_count": null,
      "outputs": []
    },
    {
      "cell_type": "code",
      "source": [
        "print(X_train.shape,X_test.shape)\n",
        "print(y_train.shape,y_test.shape)"
      ],
      "metadata": {
        "colab": {
          "base_uri": "https://localhost:8080/"
        },
        "id": "AclARP66aTau",
        "outputId": "6b3f1196-c8b5-4696-cd60-d46da10f2a52"
      },
      "execution_count": null,
      "outputs": [
        {
          "output_type": "stream",
          "name": "stdout",
          "text": [
            "(23056, 50, 50) (5765, 50, 50)\n",
            "(23056,) (5765,)\n"
          ]
        }
      ]
    },
    {
      "cell_type": "markdown",
      "source": [
        "Normalize Input"
      ],
      "metadata": {
        "id": "wU2CmgG5eAns"
      }
    },
    {
      "cell_type": "code",
      "source": [
        "X_train = np.array([x.ravel()/255. for x in X_train ])\n",
        "X_test = np.array([x.ravel()/255. for x in X_test])\n",
        "\n",
        "print(X_train.shape)\n",
        "print(X_test.shape)"
      ],
      "metadata": {
        "colab": {
          "base_uri": "https://localhost:8080/"
        },
        "id": "8pxid1Lvd-hb",
        "outputId": "8b7d4a96-c7e9-4346-92be-610d283574bc"
      },
      "execution_count": null,
      "outputs": [
        {
          "output_type": "stream",
          "name": "stdout",
          "text": [
            "(23056, 2500)\n",
            "(5765, 2500)\n"
          ]
        }
      ]
    },
    {
      "cell_type": "markdown",
      "source": [
        "Normalize output"
      ],
      "metadata": {
        "id": "zGVHczHPe_OW"
      }
    },
    {
      "cell_type": "code",
      "source": [
        "def one_hot_encode(y,num_classes):\n",
        "  y_onehot = np.zeros((y.shape[0],num_classes))\n",
        "  for i,label in enumerate(y):\n",
        "    y_onehot[i][label] = 1\n",
        "  return y_onehot"
      ],
      "metadata": {
        "id": "pdxg6I_VfDZs"
      },
      "execution_count": null,
      "outputs": []
    },
    {
      "cell_type": "code",
      "source": [
        "y_train_onehot = one_hot_encode(y_train.reshape(-1,1),7)\n",
        "y_test_onehot = one_hot_encode(y_test.reshape(-1,1),7)"
      ],
      "metadata": {
        "id": "gByt2KE7fgLl"
      },
      "execution_count": null,
      "outputs": []
    },
    {
      "cell_type": "code",
      "source": [
        "print(y_train_onehot[7])"
      ],
      "metadata": {
        "colab": {
          "base_uri": "https://localhost:8080/"
        },
        "id": "0xqFwTchf_Kc",
        "outputId": "edbc653c-ff39-40d2-b57a-57f2642ec643"
      },
      "execution_count": null,
      "outputs": [
        {
          "output_type": "stream",
          "name": "stdout",
          "text": [
            "[0. 0. 1. 0. 0. 0. 0.]\n"
          ]
        }
      ]
    },
    {
      "cell_type": "markdown",
      "source": [
        "Build Model"
      ],
      "metadata": {
        "id": "mVVLNkqigZaM"
      }
    },
    {
      "cell_type": "code",
      "source": [
        "def softmax(z):\n",
        "  return np.exp(z)/np.sum(np.exp(z),axis=1,keepdims =True)"
      ],
      "metadata": {
        "id": "wOtFHBRB3u-5"
      },
      "execution_count": null,
      "outputs": []
    },
    {
      "cell_type": "code",
      "source": [
        "def predict(X,w):\n",
        "  z = np.dot(X,w)\n",
        "  y_pred = softmax(z)\n",
        "  return y_pred"
      ],
      "metadata": {
        "id": "CYEGR-F9gh9a"
      },
      "execution_count": null,
      "outputs": []
    },
    {
      "cell_type": "markdown",
      "source": [
        "Hàm loss"
      ],
      "metadata": {
        "id": "yZB8_zOLg4_5"
      }
    },
    {
      "cell_type": "code",
      "source": [
        "def loss(X,y,w):\n",
        "  y_pred=predict(X,w)\n",
        "  return -np.sum(y*np.log(y_pred+0.01))/y.shape[0]\n",
        "  "
      ],
      "metadata": {
        "id": "zgwNjT9tg3hT"
      },
      "execution_count": null,
      "outputs": []
    },
    {
      "cell_type": "markdown",
      "source": [
        "Gradient descent"
      ],
      "metadata": {
        "id": "tZcNmX6ZhUPr"
      }
    },
    {
      "cell_type": "code",
      "source": [
        "def grad(x,y,w):\n",
        "  y_pred = predict(x,w)\n",
        "  delta = y_pred-y\n",
        "  dw = np.dot(x.T,delta)/x.shape[0]\n",
        "  return dw"
      ],
      "metadata": {
        "id": "lA5qeu4dhSrH"
      },
      "execution_count": null,
      "outputs": []
    },
    {
      "cell_type": "markdown",
      "source": [
        "Gradient Fullbatch"
      ],
      "metadata": {
        "id": "92-4NVeS4a4F"
      }
    },
    {
      "cell_type": "code",
      "source": [
        "def gradient_descent(x,y,lr,epochs):\n",
        "  w =np.zeros((x.shape[1],y.shape[1]))\n",
        "  l = loss(x,y,w)\n",
        "  print(\"first loss \",l)\n",
        "  history = []\n",
        "  for i in range(epochs):\n",
        "    dw = grad(x,y,w)\n",
        "    w -= lr*dw\n",
        "    a = loss(x,y,w)\n",
        "    history.append(a)\n",
        "  print(\"final loss = \" , a )\n",
        "  return history,w"
      ],
      "metadata": {
        "id": "bWiPKMCNhrl2"
      },
      "execution_count": null,
      "outputs": []
    },
    {
      "cell_type": "markdown",
      "source": [
        "Gradient MiniBatch"
      ],
      "metadata": {
        "id": "vH3mGSwj4fSv"
      }
    },
    {
      "cell_type": "code",
      "source": [
        "def mini_batch_gradient(X,y,lr,epochs,batch_size):\n",
        "  w = np.zeros((X.shape[1],y.shape[1]))\n",
        "  l = loss(X,y,w)\n",
        "  print(\"first loss \",l)\n",
        "  loss_his = []\n",
        "  for i in range(epochs):\n",
        "    idx = np.random.choice(X.shape[0],batch_size,replace=False)\n",
        "    X_batch = X[idx]\n",
        "    y_batch = y[idx]\n",
        "    dw = grad(X_batch,y_batch,w)/batch_size\n",
        "    w -= dw*lr\n",
        "    loss_his.append(loss(X_batch,y_batch,w))\n",
        "  print(\"final loss = \" , loss(X_batch,y_batch,w) )\n",
        "  return loss_his,w\n"
      ],
      "metadata": {
        "id": "zDxdaYv34l3E"
      },
      "execution_count": null,
      "outputs": []
    },
    {
      "cell_type": "markdown",
      "source": [
        "Train Full Batch"
      ],
      "metadata": {
        "id": "lit4aJpk5p-5"
      }
    },
    {
      "cell_type": "code",
      "source": [
        "his_full,w_full = gradient_descent(X_train,y_train_onehot,0.01,500)"
      ],
      "metadata": {
        "colab": {
          "base_uri": "https://localhost:8080/"
        },
        "id": "SfxOMlCKiiiE",
        "outputId": "70d7aea0-94fc-45cc-cc3d-4f22e5ab3b98"
      },
      "execution_count": null,
      "outputs": [
        {
          "output_type": "stream",
          "name": "stdout",
          "text": [
            "first loss  1.8782515005814988\n",
            "final loss =  1.6363030846897761\n"
          ]
        }
      ]
    },
    {
      "cell_type": "code",
      "source": [
        "plt.plot(his_full)"
      ],
      "metadata": {
        "colab": {
          "base_uri": "https://localhost:8080/",
          "height": 447
        },
        "id": "cHlNAJZB6IJ0",
        "outputId": "2e95b408-bfce-40cf-ad06-f4cde6f41351"
      },
      "execution_count": null,
      "outputs": [
        {
          "output_type": "execute_result",
          "data": {
            "text/plain": [
              "[<matplotlib.lines.Line2D at 0x7f27dfe96be0>]"
            ]
          },
          "metadata": {},
          "execution_count": 74
        },
        {
          "output_type": "display_data",
          "data": {
            "text/plain": [
              "<Figure size 640x480 with 1 Axes>"
            ],
            "image/png": "[encoded data removed]"
          },
          "metadata": {}
        }
      ]
    },
    {
      "cell_type": "markdown",
      "source": [
        "Train mini batch"
      ],
      "metadata": {
        "id": "lpmOwjfe6CTa"
      }
    },
    {
      "cell_type": "code",
      "source": [
        "his_mini,w_mini = mini_batch_gradient(X_train,y_train_onehot,0.1,500,128)"
      ],
      "metadata": {
        "id": "mwgqnTIq6BrV"
      },
      "execution_count": null,
      "outputs": []
    },
    {
      "cell_type": "code",
      "source": [
        "plt.plot(his_mini)"
      ],
      "metadata": {
        "colab": {
          "base_uri": "https://localhost:8080/",
          "height": 447
        },
        "id": "g7jBTDPj7kx8",
        "outputId": "4e2fbe9c-bc37-45e3-f6b6-2a5c455b1a2f"
      },
      "execution_count": null,
      "outputs": [
        {
          "output_type": "execute_result",
          "data": {
            "text/plain": [
              "[<matplotlib.lines.Line2D at 0x7f27dfdb6eb0>]"
            ]
          },
          "metadata": {},
          "execution_count": 95
        },
        {
          "output_type": "display_data",
          "data": {
            "text/plain": [
              "<Figure size 640x480 with 1 Axes>"
            ],
            "image/png": "[encoded data removed]"
          },
          "metadata": {}
        }
      ]
    },
    {
      "cell_type": "code",
      "source": [
        "#\n",
        "def batch_generator(X,y,batch_size = 32):\n",
        "    idx = np.arange(X.shape[0])\n",
        "    np.random.shuffle(idx)\n",
        "    \n",
        "    n_batch = len(idx)//batch_size # lấy phần nguyên \n",
        "    for i in range(n_batch):\n",
        "        i_start = i*batch_size \n",
        "        i_stop = min((i+1)*batch_size,len(idx))\n",
        "        X_batch = X[i_start:i_stop,:]\n",
        "        y_batch = y[i_start:i_stop,:]\n",
        "        yield X_batch, y_batch"
      ],
      "metadata": {
        "id": "UK4-M8nEaSDa"
      },
      "execution_count": null,
      "outputs": []
    },
    {
      "cell_type": "code",
      "source": [],
      "metadata": {
        "id": "VRiJZjvggDoL"
      },
      "execution_count": null,
      "outputs": []
    },
    {
      "cell_type": "markdown",
      "source": [
        "EX1 : Evaluation "
      ],
      "metadata": {
        "id": "MRyhOZlNAowX"
      }
    },
    {
      "cell_type": "code",
      "source": [
        "# Chuyển về dạng số thực \n",
        "\n",
        "def predict_classes(x,w):\n",
        "  y_pred = predict(x,w)\n",
        "  y_pred = np.argmax(y_pred,axis=1)\n",
        "  return y_pred"
      ],
      "metadata": {
        "id": "GW7ixGbkAoL_"
      },
      "execution_count": null,
      "outputs": []
    },
    {
      "cell_type": "code",
      "source": [
        "def evaluation(y_true, y_pred):\n",
        "    tp = 0\n",
        "    tn = 0 \n",
        "    fp = 0 \n",
        "    fn = 0 \n",
        "    for i in range(len(y_true)):\n",
        "        if(y_true[i] == y_pred[i]):\n",
        "            if(y_pred[i] == 1):\n",
        "                tp += 1\n",
        "            else:\n",
        "                tn += 1\n",
        "        else:\n",
        "            if(y_pred[i] == 1):\n",
        "                fp += 1\n",
        "            else:\n",
        "                fn += 1\n",
        "    accuracy = (tp + tn) / (tp+tn+fp+fn)\n",
        "    precision = tp/(tp+fp)\n",
        "    recall = tp/(tp+fn)\n",
        "    f1_score = 2*precision*accuracy/(precision+accuracy)\n",
        "\n",
        "    print(\"Accuracy = \",accuracy )\n",
        "    print(\"Precision = \",precision )\n",
        "    print(\"Recall = \",recall )\n",
        "    print(\"f1_score = \",f1_score )\n",
        "\n",
        "    "
      ],
      "metadata": {
        "id": "J4IoT517DfDw"
      },
      "execution_count": null,
      "outputs": []
    },
    {
      "cell_type": "code",
      "source": [
        "def evaluation2(y_pred, y_true):\n",
        "# Calculate precision and recall for each class\n",
        "  labels = np.unique(y_true)\n",
        "  label_len = len(labels)\n",
        "  accuracy = np.zeros(len(labels))\n",
        "  precision = np.zeros(len(labels))\n",
        "  recall = np.zeros(len(labels))\n",
        "  f1_score = np.zeros(7)\n",
        "  for i in range(7):\n",
        "    label = labels[i]\n",
        "    tp = np.sum((y_pred == label) & (y_true == label))\n",
        "    tn = np.sum((y_pred != label) & (y_true != label))\n",
        "    fp = np.sum((y_pred == label) & (y_true != label))\n",
        "    fn = np.sum((y_pred != label) & (y_true == label))\n",
        "    accuracy[i] = (tp+tn)/(tp+tn+fp+fn) if (tp+tn+fp+fn) != 0 else 0\n",
        "    precision[i] = tp / (tp + fp) if (tp + fp) != 0 else 0\n",
        "    recall[i] = tp / (tp + fn) if (tp + fn) != 0 else 0\n",
        "    f1_score[i] = 2 * precision[i] * recall[i] / (precision[i] + recall[i])\n",
        "  #if(precision[i] + recall[i]) != 0 else 0\n",
        "  accuracy_avg = np.mean(accuracy)\n",
        "  precision_avg = np.mean(precision)\n",
        "  recall_avg = np.mean(recall)\n",
        "  f1_avg = np.mean(f1_score)\n",
        "  print(f'tp = {tp}, tn = {tn}, fp = {fp}, fn = {fn}')\n",
        "  print(f'Accuracy: {accuracy_avg}, Precsion: {precision_avg}, Recall:{recall_avg}, F1 Score: {f1_avg}')\n"
      ],
      "metadata": {
        "id": "0rMrEuUygEay"
      },
      "execution_count": null,
      "outputs": []
    },
    {
      "cell_type": "code",
      "source": [],
      "metadata": {
        "id": "-FN9yYRLgM4s"
      },
      "execution_count": null,
      "outputs": []
    },
    {
      "cell_type": "code",
      "source": [
        "y_pred_train = predict(X_test, w_full)\n",
        "y_pred_train = np.argmax(y_pred_train, axis=1)\n",
        "print(y_pred_train.shape)"
      ],
      "metadata": {
        "colab": {
          "base_uri": "https://localhost:8080/"
        },
        "id": "OirsfrNWDhFn",
        "outputId": "2b97dc66-9f8b-44a7-cb4f-4d0116701099"
      },
      "execution_count": null,
      "outputs": [
        {
          "output_type": "stream",
          "name": "stdout",
          "text": [
            "(5765,)\n"
          ]
        }
      ]
    },
    {
      "cell_type": "code",
      "source": [
        "evaluation2(y_pred_train,y_test)"
      ],
      "metadata": {
        "colab": {
          "base_uri": "https://localhost:8080/"
        },
        "id": "qMyKCN2HIVfW",
        "outputId": "a088fb39-8bef-4762-96e2-242b3b201972"
      },
      "execution_count": null,
      "outputs": [
        {
          "output_type": "stream",
          "name": "stdout",
          "text": [
            "tp = 283, tn = 4190, fp = 549, fn = 743\n",
            "Accuracy: 0.8091438483459299, Precsion: 0.2623810796565889, Recall:0.24343181204594283, F1 Score: nan\n"
          ]
        }
      ]
    }
  ]
}