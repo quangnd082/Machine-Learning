{
  "cells": [
    {
      "cell_type": "code",
      "execution_count": 1,
      "metadata": {
        "id": "40ZfRPeH296R"
      },
      "outputs": [],
      "source": [
        "import numpy as np \n",
        "import matplotlib.pyplot as plt\n"
      ]
    },
    {
      "cell_type": "code",
      "execution_count": 2,
      "metadata": {
        "id": "r5GvgFqi2NEE",
        "colab": {
          "base_uri": "https://localhost:8080/"
        },
        "outputId": "4a42a742-99ec-41d3-9e17-adae5f5ae7f9"
      },
      "outputs": [
        {
          "output_type": "stream",
          "name": "stdout",
          "text": [
            "Downloading data from https://storage.googleapis.com/tensorflow/tf-keras-datasets/mnist.npz\n",
            "11490434/11490434 [==============================] - 0s 0us/step\n"
          ]
        }
      ],
      "source": [
        "from keras.datasets import mnist \n",
        "(x_train ,y_train),(x_test,y_test) = mnist.load_data()"
      ]
    },
    {
      "cell_type": "code",
      "execution_count": 3,
      "metadata": {
        "id": "Rx2B2OmuZQLm"
      },
      "outputs": [],
      "source": [
        "# x_train = x_train.astype(\"float32\")\n",
        "# x_test = x_test.astype(\"float32\")"
      ]
    },
    {
      "cell_type": "code",
      "execution_count": 4,
      "metadata": {
        "colab": {
          "base_uri": "https://localhost:8080/",
          "height": 465
        },
        "id": "hq6Bhz0P26d9",
        "outputId": "8c29bfa0-9c41-4320-a0ff-08c7bb19e2dc"
      },
      "outputs": [
        {
          "output_type": "stream",
          "name": "stdout",
          "text": [
            "5\n",
            "(60000, 28, 28) 60000\n"
          ]
        },
        {
          "output_type": "display_data",
          "data": {
            "text/plain": [
              "<Figure size 640x480 with 1 Axes>"
            ],
            "image/png": "[encoded data removed]"
          },
          "metadata": {}
        }
      ],
      "source": [
        "#display \n",
        "print(y_train[0])\n",
        "plt.imshow(x_train[0],cmap='gray')\n",
        "print(x_train.shape,y_train.shape[0])\n"
      ]
    },
    {
      "cell_type": "markdown",
      "source": [
        "Chuẩn hóa input "
      ],
      "metadata": {
        "id": "7z6ZILlT61H6"
      }
    },
    {
      "cell_type": "code",
      "execution_count": 5,
      "metadata": {
        "colab": {
          "base_uri": "https://localhost:8080/"
        },
        "id": "fUo0T9iz5IXu",
        "outputId": "9f9c1a36-0f08-41c9-a3d8-3cc83aab6a44"
      },
      "outputs": [
        {
          "output_type": "execute_result",
          "data": {
            "text/plain": [
              "((60000, 784), (10000, 784))"
            ]
          },
          "metadata": {},
          "execution_count": 5
        }
      ],
      "source": [
        "\n",
        "x_train_scaled = np.array([x.ravel()/255. for x in x_train ])\n",
        "x_test_scaled = np.array([x.ravel()/255. for x in x_test ])\n",
        "\n",
        "x_train_scaled.shape,x_test_scaled.shape\n"
      ]
    },
    {
      "cell_type": "markdown",
      "source": [
        "Chuẩn hóa output\n"
      ],
      "metadata": {
        "id": "IQp9YAV964Xg"
      }
    },
    {
      "cell_type": "code",
      "source": [
        "def one_hot_encode(y, num_class):\n",
        "  y_onehot = np.zeros((y.shape[0], num_class))\n",
        "  for i, label in enumerate(y):\n",
        "    y_onehot[i][label] = 1 \n",
        "  return y_onehot"
      ],
      "metadata": {
        "id": "WXUq4AYU-LPV"
      },
      "execution_count": 6,
      "outputs": []
    },
    {
      "cell_type": "code",
      "source": [
        "y_train_onehot = one_hot_encode(y_train.reshape(-1,1),10)\n",
        "y_test_onehot = one_hot_encode(y_test.reshape(-1,1),10)"
      ],
      "metadata": {
        "id": "4IICsprM9yF1"
      },
      "execution_count": 7,
      "outputs": []
    },
    {
      "cell_type": "code",
      "source": [
        "print(y_train_onehot[0])\n",
        "print(y_train[0])"
      ],
      "metadata": {
        "colab": {
          "base_uri": "https://localhost:8080/"
        },
        "id": "vnEb8kqJAU3k",
        "outputId": "c7219946-0887-4db5-d0f8-7e6257fafb02"
      },
      "execution_count": 8,
      "outputs": [
        {
          "output_type": "stream",
          "name": "stdout",
          "text": [
            "[0. 0. 0. 0. 0. 1. 0. 0. 0. 0.]\n",
            "5\n"
          ]
        }
      ]
    },
    {
      "cell_type": "markdown",
      "metadata": {
        "id": "ynCeLVcN8AJ8"
      },
      "source": [
        "Xây dựng và huấn luyện mô hình "
      ]
    },
    {
      "cell_type": "markdown",
      "source": [
        "Mô hình dự đoán"
      ],
      "metadata": {
        "id": "CIHmmEiLBOsq"
      }
    },
    {
      "cell_type": "code",
      "execution_count": 10,
      "metadata": {
        "id": "WWGgKQbu7BsK"
      },
      "outputs": [],
      "source": [
        "def predict(x,w):\n",
        "  h=np.dot(x,w)\n",
        "  softmax = np.exp(h)\n",
        "  y_pred = softmax/np.sum(softmax,axis = 1 , keepdims = True)\n",
        "  return y_pred "
      ]
    },
    {
      "cell_type": "markdown",
      "source": [
        "Hàm loss"
      ],
      "metadata": {
        "id": "skZmt_x9BSRu"
      }
    },
    {
      "cell_type": "code",
      "execution_count": 11,
      "metadata": {
        "id": "nD6aSkDi9SqR"
      },
      "outputs": [],
      "source": [
        "def loss(x,y,w):\n",
        "  y_pred = predict(x,w)\n",
        "  return -np.sum(y*np.log(y_pred+0.01))/y.shape[0]\n"
      ]
    },
    {
      "cell_type": "markdown",
      "source": [
        "Hàm Gradient"
      ],
      "metadata": {
        "id": "OO3rw0DjBcq4"
      }
    },
    {
      "cell_type": "code",
      "execution_count": 12,
      "metadata": {
        "id": "monZwi8ZZQLr"
      },
      "outputs": [],
      "source": [
        "def grad(x,w,y):\n",
        "  y_pred = predict(x,w)\n",
        "  delta = y_pred-y\n",
        "  return np.dot(x.T,delta)/x.shape[0]"
      ]
    },
    {
      "cell_type": "markdown",
      "source": [
        "Hàm Gradient Descent "
      ],
      "metadata": {
        "id": "Xv-W-7-mB3X4"
      }
    },
    {
      "cell_type": "code",
      "execution_count": 13,
      "metadata": {
        "id": "O5znobgu9t4a"
      },
      "outputs": [],
      "source": [
        "def fit(x,y,lr,epochs):\n",
        "    w = np.zeros((x.shape[1],10))\n",
        "    l = loss(x,y,w)\n",
        "    print(\"first loss = \" ,l)\n",
        "    l = [] \n",
        "    for i in range(epochs):\n",
        "      dw = grad(x,w,y) \n",
        "      w -= lr*dw\n",
        "      a = loss(x,y,w)\n",
        "      l.append(a)\n",
        "    print(\"final loss = \" , a )\n",
        "    return l,w\n"
      ]
    },
    {
      "cell_type": "code",
      "source": [
        "l,w = fit(x_train_scaled,y_train_onehot,0.1,1000)"
      ],
      "metadata": {
        "colab": {
          "base_uri": "https://localhost:8080/"
        },
        "id": "4wzIc1-LDfAH",
        "outputId": "18300a63-4023-444c-ff38-07d65206573f"
      },
      "execution_count": 14,
      "outputs": [
        {
          "output_type": "stream",
          "name": "stdout",
          "text": [
            "first loss =  2.2072749131897207\n",
            "final loss =  0.31930575376073445\n"
          ]
        }
      ]
    },
    {
      "cell_type": "code",
      "source": [
        "plt.plot(l)"
      ],
      "metadata": {
        "colab": {
          "base_uri": "https://localhost:8080/",
          "height": 447
        },
        "id": "zJEMHAinDuXe",
        "outputId": "fa02021a-4698-462e-f421-c9b5be20f7b7"
      },
      "execution_count": 15,
      "outputs": [
        {
          "output_type": "execute_result",
          "data": {
            "text/plain": [
              "[<matplotlib.lines.Line2D at 0x7effc892ebe0>]"
            ]
          },
          "metadata": {},
          "execution_count": 15
        },
        {
          "output_type": "display_data",
          "data": {
            "text/plain": [
              "<Figure size 640x480 with 1 Axes>"
            ],
            "image/png": "[encoded data removed]"
          },
          "metadata": {}
        }
      ]
    },
    {
      "cell_type": "markdown",
      "source": [
        "Đánh giá mô hình "
      ],
      "metadata": {
        "id": "qlZjEz5rFslu"
      }
    },
    {
      "cell_type": "code",
      "source": [
        "# Chuyển về dạng số thực \n",
        "\n",
        "def predict_classes(x,w):\n",
        "  y_pred = predict(x,w)\n",
        "  y_pred = np.argmax(y_pred,axis=1)\n",
        "  return y_pred"
      ],
      "metadata": {
        "id": "BWLhuIzrCi23"
      },
      "execution_count": 16,
      "outputs": []
    },
    {
      "cell_type": "code",
      "source": [
        "def evaluation(y_true, y_pred):\n",
        "    tp = 0\n",
        "    tn = 0 \n",
        "    fp = 0 \n",
        "    fn = 0 \n",
        "    for i in range(len(y_true)):\n",
        "        if(y_true[i] == y_pred[i]):\n",
        "            if(y_pred[i] == 1):\n",
        "                tp += 1\n",
        "            else:\n",
        "                tn += 1\n",
        "        else:\n",
        "            if(y_pred[i] == 1):\n",
        "                fp += 1\n",
        "            else:\n",
        "                fn += 1\n",
        "    accuracy = (tp + tn) / (tp+tn+fp+fn)\n",
        "    precision = tp/(tp+fp)\n",
        "    recall = tp/(tp+fn)\n",
        "    f1_score = 2*precision*accuracy/(precision+accuracy)\n",
        "\n",
        "    print(\"Accuracy = \",accuracy )\n",
        "    print(\"Precision = \",precision )\n",
        "    print(\"Recall = \",recall )\n",
        "    print(\"f1_score = \",f1_score )\n",
        "\n",
        "    "
      ],
      "metadata": {
        "id": "FclwLL-VPTU4"
      },
      "execution_count": 17,
      "outputs": []
    },
    {
      "cell_type": "code",
      "source": [
        "y_pred = predict_classes(x_test_scaled,w)\n",
        "evaluation(y_test,y_pred)"
      ],
      "metadata": {
        "colab": {
          "base_uri": "https://localhost:8080/"
        },
        "id": "NJCbTfJsKfE-",
        "outputId": "c61e9485-04e7-4ebd-e131-7981acdf61e2"
      },
      "execution_count": 18,
      "outputs": [
        {
          "output_type": "stream",
          "name": "stdout",
          "text": [
            "Accuracy =  0.9082\n",
            "Precision =  0.9550173010380623\n",
            "Recall =  0.5604060913705584\n",
            "f1_score =  0.9310204583432535\n"
          ]
        }
      ]
    },
    {
      "cell_type": "markdown",
      "source": [
        "Visualization Confusion Matrix"
      ],
      "metadata": {
        "id": "tR9HRbwwP63y"
      }
    },
    {
      "cell_type": "markdown",
      "source": [
        "***Class Multiclass Logistic***"
      ],
      "metadata": {
        "id": "hHD-gwKQVKe2"
      }
    },
    {
      "cell_type": "code",
      "source": [
        "class Multiclass:\n",
        "  def __init__(self,lr,epochs):\n",
        "    self.lr = lr \n",
        "    self.epochs = epochs \n",
        "      \n",
        "\n",
        "  def softmax(self,z):\n",
        "    return np.exp(z)/np.sum(np.exp(z),axis = 1,keepdims=True)\n",
        "    \n",
        "  # predict\n",
        "  def predict(self,x,w):\n",
        "    z = np.dot(x,w) \n",
        "    return self.softmax(z)\n",
        "  #loss\n",
        "  def loss(self,x,y,w):\n",
        "    y_pred = self.predict(x,w)\n",
        "    return -np.sum(y*np.log(y_pred))/y.shape[0]\n",
        "\n",
        "  #grad\n",
        "  def grad(self,x,y,w):\n",
        "    y_pred = self.predict(x,w)\n",
        "    delta = y_pred-y\n",
        "    dw = np.dot(x.T,delta)/x.shape[0]\n",
        "    return dw\n",
        "  \n",
        "  def fit(self,x,y):\n",
        "    #bias = np.ones((x.shape[0], 1))    #Add bias at first col of X_train\n",
        "    #x = np.hstack((bias, x))\n",
        "\n",
        "    w = np.zeros((x.shape[1],10))\n",
        "    print(\"first loss = \",self.loss(x,y,w))\n",
        "    l=[]\n",
        "    for i in range(self.epochs):\n",
        "      w -= self.lr*self.grad(x,y,w)\n",
        "      a = self.loss(x,y,w)\n",
        "      l.append(a)\n",
        "    print(\"final loss = \",a)\n",
        "    return l,w\n",
        "\n"
      ],
      "metadata": {
        "id": "xWXDr0OwUUid"
      },
      "execution_count": 32,
      "outputs": []
    },
    {
      "cell_type": "code",
      "source": [
        "model = Multiclass(0.1,1000)\n"
      ],
      "metadata": {
        "id": "g_3AjbxoZWWY"
      },
      "execution_count": 33,
      "outputs": []
    },
    {
      "cell_type": "code",
      "source": [
        "l,w_model = model.fit(x_train_scaled,y_train_onehot)"
      ],
      "metadata": {
        "colab": {
          "base_uri": "https://localhost:8080/"
        },
        "id": "6_FltxBdZdDe",
        "outputId": "8100e94c-2519-4535-b9a3-898ed799fd9e"
      },
      "execution_count": 35,
      "outputs": [
        {
          "output_type": "stream",
          "name": "stdout",
          "text": [
            "first loss =  2.3025850929940437\n",
            "final loss =  0.3516331169238181\n"
          ]
        }
      ]
    },
    {
      "cell_type": "code",
      "source": [
        "y_pred_model =predict_classes(x_test_scaled,w_model)"
      ],
      "metadata": {
        "id": "y_OsPkZvZ4IW"
      },
      "execution_count": 37,
      "outputs": []
    },
    {
      "cell_type": "code",
      "source": [
        "\n",
        "evaluation(y_test,y_pred_model)"
      ],
      "metadata": {
        "id": "lZE13LprEqIg",
        "colab": {
          "base_uri": "https://localhost:8080/"
        },
        "outputId": "0111f251-fe99-49fa-eec8-1b96f5ac393b"
      },
      "execution_count": 38,
      "outputs": [
        {
          "output_type": "stream",
          "name": "stdout",
          "text": [
            "Accuracy =  0.9082\n",
            "Precision =  0.9550173010380623\n",
            "Recall =  0.5604060913705584\n",
            "f1_score =  0.9310204583432535\n"
          ]
        }
      ]
    },
    {
      "cell_type": "markdown",
      "source": [
        "Ex3 : Logistic add bias "
      ],
      "metadata": {
        "id": "PDCnSuFsSloD"
      }
    },
    {
      "cell_type": "code",
      "source": [
        "class LogisticRegression_bias:\n",
        "    def __init__(self, lr=0.01, epochs=1000, add_bias=True):\n",
        "        self.lr = lr\n",
        "        self.epochs = epochs\n",
        "        self.add_bias = add_bias\n",
        "    def addBias(self, X):\n",
        "        return np.hstack((np.ones((X.shape[0], 1)), X))\n",
        "    def softmax(self, z):\n",
        "        return np.exp(z)/np.sum(np.exp(z), axis=1, keepdims=True)\n",
        "    def predict(self, X, w):\n",
        "        z = np.dot(X, w)\n",
        "        return self.softmax(z)\n",
        "    def loss(self, X, y, w):\n",
        "        y_hat = self.predict(X, w)\n",
        "        return -np.sum(y*np.log(y_hat))/y.shape[0]\n",
        "    def grad(self, X, y, w):\n",
        "        y_hat = self.predict(X, w)\n",
        "        dw = np.dot(X.T, y_hat-y) / X.shape[0]\n",
        "        return dw\n",
        "    def gradient_descent(self, X, y):\n",
        "        if self.add_bias:\n",
        "            X = self.addBias(X)\n",
        "        w = np.zeros((X.shape[1], y.shape[1]))\n",
        "        loss_his = []\n",
        "        for i in range(self.epochs):\n",
        "            w = w - self.lr*self.grad(X, y, w)\n",
        "            loss_his.append(self.loss(X, y, w))\n",
        "        print(f\"Loss Cross Entropy : {self.loss(X, y, w)}\")\n",
        "        return loss_his, w"
      ],
      "metadata": {
        "id": "8J5r0i5dSqMJ"
      },
      "execution_count": 39,
      "outputs": []
    },
    {
      "cell_type": "code",
      "source": [
        "model_bias = LogisticRegression_bias() "
      ],
      "metadata": {
        "id": "BrAsLX0GStLp"
      },
      "execution_count": 40,
      "outputs": []
    },
    {
      "cell_type": "code",
      "source": [
        "loss_model_bias , w_model_bias = model_bias.gradient_descent(x_train_scaled, y_train_onehot)"
      ],
      "metadata": {
        "colab": {
          "base_uri": "https://localhost:8080/"
        },
        "id": "S9XdvS9xS1OP",
        "outputId": "0a7216ab-91b1-45db-afa7-28ab58d9feae"
      },
      "execution_count": 42,
      "outputs": [
        {
          "output_type": "stream",
          "name": "stdout",
          "text": [
            "Loss Cross Entropy : 0.6101643019020809\n"
          ]
        }
      ]
    },
    {
      "cell_type": "code",
      "source": [
        "x_test_bias = model_bias.addBias(x_test_scaled)\n",
        "y_pred_bias = model_bias.predict(x_test_bias,w_model_bias)\n",
        "y_pred_bias = np.argmax(y_pred_bias,axis=1)\n",
        "evaluation(y_test,y_pred_model)"
      ],
      "metadata": {
        "colab": {
          "base_uri": "https://localhost:8080/"
        },
        "id": "swb4jvQATT-v",
        "outputId": "6e4339a9-4f69-4116-e1a6-33a213acd1f3"
      },
      "execution_count": 45,
      "outputs": [
        {
          "output_type": "stream",
          "name": "stdout",
          "text": [
            "Accuracy =  0.9082\n",
            "Precision =  0.9550173010380623\n",
            "Recall =  0.5604060913705584\n",
            "f1_score =  0.9310204583432535\n"
          ]
        }
      ]
    },
    {
      "cell_type": "code",
      "source": [
        "import seaborn as sns\n",
        "from sklearn.metrics import confusion_matrix\n",
        "\n",
        "def plot_confusion_matrix(y_true, y_pred, labels):\n",
        "    cm = confusion_matrix(y_true, y_pred, labels=labels)\n",
        "    # sns.heatmap(cm, cmap='Blues',annot=True)\n",
        "    ax = sns.heatmap(cm, annot=True, cmap='Blues', fmt='g')\n",
        "    ax.set_xlabel('Predicted labels')\n",
        "    ax.set_ylabel('True labels')\n",
        "    ax.set_title('Confusion Matrix')\n",
        "    plt.show()\n",
        "    \n"
      ],
      "metadata": {
        "id": "TwWiDJkTRusD"
      },
      "execution_count": 46,
      "outputs": []
    },
    {
      "cell_type": "code",
      "source": [
        "labels = [0,1,2,3,4,5,6,7,8,9]"
      ],
      "metadata": {
        "id": "WE9M0cJjR9Fg"
      },
      "execution_count": 20,
      "outputs": []
    },
    {
      "cell_type": "code",
      "source": [
        "plot_confusion_matrix(y_test,y_pred,labels)"
      ],
      "metadata": {
        "colab": {
          "base_uri": "https://localhost:8080/",
          "height": 472
        },
        "id": "VitAE7OzRHPn",
        "outputId": "0b8b5f87-74e8-47e1-814c-946f40d8a5d0"
      },
      "execution_count": 21,
      "outputs": [
        {
          "output_type": "display_data",
          "data": {
            "text/plain": [
              "<Figure size 640x480 with 2 Axes>"
            ],
            "image/png": "[encoded data removed]"
          },
          "metadata": {}
        }
      ]
    }
  ],
  "metadata": {
    "colab": {
      "provenance": []
    },
    "kernelspec": {
      "display_name": "Python 3",
      "name": "python3"
    },
    "language_info": {
      "codemirror_mode": {
        "name": "ipython",
        "version": 3
      },
      "file_extension": ".py",
      "mimetype": "text/x-python",
      "name": "python",
      "nbconvert_exporter": "python",
      "pygments_lexer": "ipython3",
      "version": "3.10.8"
    }
  },
  "nbformat": 4,
  "nbformat_minor": 0
}