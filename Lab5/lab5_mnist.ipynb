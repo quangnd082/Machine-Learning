{
  "cells": [
    {
      "cell_type": "code",
      "execution_count": 7,
      "metadata": {
        "id": "40ZfRPeH296R"
      },
      "outputs": [],
      "source": [
        "import numpy as np\n",
        "import pandas as pd\n",
        "import matplotlib.pyplot as plt\n",
        "import cv2\n",
        "import glob\n",
        "from sklearn.metrics import confusion_matrix\n",
        "import seaborn as sns\n",
        "import warnings\n"
      ]
    },
    {
      "cell_type": "code",
      "execution_count": 8,
      "metadata": {
        "colab": {
          "base_uri": "https://localhost:8080/"
        },
        "id": "r5GvgFqi2NEE",
        "outputId": "08d2fa1a-0323-4388-e108-0b4dd6d9673b"
      },
      "outputs": [],
      "source": [
        "from keras.datasets import mnist \n",
        "#import tensorflow as tf\n",
        "(x_train ,y_train),(x_test,y_test) = mnist.load_data()"
      ]
    },
    {
      "cell_type": "code",
      "execution_count": 9,
      "metadata": {
        "colab": {
          "base_uri": "https://localhost:8080/",
          "height": 465
        },
        "id": "hq6Bhz0P26d9",
        "outputId": "61a665a5-8a53-4a45-898d-be3775ff38a7"
      },
      "outputs": [
        {
          "name": "stdout",
          "output_type": "stream",
          "text": [
            "5\n"
          ]
        },
        {
          "data": {
            "text/plain": [
              "<matplotlib.image.AxesImage at 0x1a2a3625d20>"
            ]
          },
          "execution_count": 9,
          "metadata": {},
          "output_type": "execute_result"
        },
        {
          "data": {
            "image/png": "[encoded data removed]",
            "text/plain": [
              "<Figure size 640x480 with 1 Axes>"
            ]
          },
          "metadata": {},
          "output_type": "display_data"
        }
      ],
      "source": [
        "#display \n",
        "print(y_train[0])\n",
        "plt.imshow(x_train[0],cmap='gray')"
      ]
    },
    {
      "cell_type": "code",
      "execution_count": 10,
      "metadata": {
        "colab": {
          "base_uri": "https://localhost:8080/"
        },
        "id": "fUo0T9iz5IXu",
        "outputId": "289e2e5c-4bed-4a55-ae4f-45c18bb04e71"
      },
      "outputs": [
        {
          "data": {
            "text/plain": [
              "((60000, 784), (10000, 784))"
            ]
          },
          "execution_count": 10,
          "metadata": {},
          "output_type": "execute_result"
        }
      ],
      "source": [
        "# chuan hoa input\n",
        "x_train_scaled = np.array([x.ravel()/255. for x in x_train ])\n",
        "x_test_scaled = np.array([x.ravel()/255. for x in x_test ])\n",
        "\n",
        "x_train_scaled.shape,x_test_scaled.shape\n"
      ]
    },
    {
      "attachments": {},
      "cell_type": "markdown",
      "metadata": {},
      "source": [
        "Normalize Output\n"
      ]
    },
    {
      "cell_type": "code",
      "execution_count": 11,
      "metadata": {
        "id": "4pKciwPi5fng"
      },
      "outputs": [],
      "source": [
        "# One hot encoding function\n",
        "def one_hot_encode(y):\n",
        "    y_unique = np.unique(y)\n",
        "    '''\n",
        "    extract unique data in array\n",
        "    Ex :\n",
        "    before unique : [3,5,3,1,4,6]\n",
        "    after unique : [1,3,4,5,6]\n",
        "    2'''\n",
        "    y_one_hot = np.zeros((len(y),len(y_unique)))\n",
        "    for i in range(len(y)):\n",
        "        y_one_hot[i,y[i]] = 1\n",
        "    return y_one_hot"
      ]
    },
    {
      "cell_type": "code",
      "execution_count": 12,
      "metadata": {
        "colab": {
          "base_uri": "https://localhost:8080/"
        },
        "id": "57FP07xR73yt",
        "outputId": "c866cac5-5683-482f-b124-fd5d74272651"
      },
      "outputs": [],
      "source": [
        "y_train_one_hot = one_hot_encode(y_train)\n",
        "y_test_one_hot = one_hot_encode(y_test)"
      ]
    },
    {
      "cell_type": "code",
      "execution_count": 17,
      "metadata": {},
      "outputs": [
        {
          "name": "stdout",
          "output_type": "stream",
          "text": [
            "Before encoding : (60000,), (10000,)\n",
            "After encoding : (60000, 10), (10000, 10)\n"
          ]
        }
      ],
      "source": [
        " # Print shape after encoding\n",
        "print(f\"Before encoding : {y_train.shape}, {y_test.shape}\")\n",
        "print(f\"After encoding : {y_train_one_hot.shape}, {y_test_one_hot.shape}\")"
      ]
    },
    {
      "cell_type": "code",
      "execution_count": 18,
      "metadata": {},
      "outputs": [
        {
          "name": "stdout",
          "output_type": "stream",
          "text": [
            "5\n",
            "[0. 0. 0. 0. 0. 1. 0. 0. 0. 0.]\n"
          ]
        }
      ],
      "source": [
        " # Show some change in value\n",
        "print(y_train[0])\n",
        "print(y_train_one_hot[0])"
      ]
    },
    {
      "cell_type": "code",
      "execution_count": 19,
      "metadata": {},
      "outputs": [
        {
          "name": "stdout",
          "output_type": "stream",
          "text": [
            "[5 0 4 1 9 2 1 3 1 4]\n",
            "[[0. 0. 0. 0. 0. 1. 0. 0. 0. 0.]\n",
            " [1. 0. 0. 0. 0. 0. 0. 0. 0. 0.]\n",
            " [0. 0. 0. 0. 1. 0. 0. 0. 0. 0.]\n",
            " [0. 1. 0. 0. 0. 0. 0. 0. 0. 0.]\n",
            " [0. 0. 0. 0. 0. 0. 0. 0. 0. 1.]\n",
            " [0. 0. 1. 0. 0. 0. 0. 0. 0. 0.]\n",
            " [0. 1. 0. 0. 0. 0. 0. 0. 0. 0.]\n",
            " [0. 0. 0. 1. 0. 0. 0. 0. 0. 0.]\n",
            " [0. 1. 0. 0. 0. 0. 0. 0. 0. 0.]\n",
            " [0. 0. 0. 0. 1. 0. 0. 0. 0. 0.]]\n"
          ]
        }
      ],
      "source": [
        "print(y_train[0:10])\n",
        "print(y_train_one_hot[0:10])"
      ]
    },
    {
      "attachments": {},
      "cell_type": "markdown",
      "metadata": {
        "id": "ynCeLVcN8AJ8"
      },
      "source": [
        "Build and Train Model "
      ]
    },
    {
      "attachments": {},
      "cell_type": "markdown",
      "metadata": {},
      "source": [
        "Softmax function "
      ]
    },
    {
      "cell_type": "code",
      "execution_count": 20,
      "metadata": {},
      "outputs": [],
      "source": [
        "def softmax(z):\n",
        "    return np.exp(z)/(np.sum(np.exp(z),axis=1,keepdims=True))"
      ]
    },
    {
      "attachments": {},
      "cell_type": "markdown",
      "metadata": {},
      "source": [
        "Predict function "
      ]
    },
    {
      "cell_type": "code",
      "execution_count": 21,
      "metadata": {
        "id": "WWGgKQbu7BsK"
      },
      "outputs": [],
      "source": [
        "def predict(X,w):\n",
        "  z = np.dot(X,w)\n",
        "  return softmax(z)"
      ]
    },
    {
      "attachments": {},
      "cell_type": "markdown",
      "metadata": {},
      "source": [
        "Loss function"
      ]
    },
    {
      "cell_type": "code",
      "execution_count": 22,
      "metadata": {
        "id": "nD6aSkDi9SqR"
      },
      "outputs": [],
      "source": [
        "def loss(X,y,w):\n",
        "  y_pred = predict(X,w)\n",
        "  return -np.sum(y*np.log(y_pred))/y.shape[0]\n"
      ]
    },
    {
      "attachments": {},
      "cell_type": "markdown",
      "metadata": {},
      "source": [
        "Loss Derivative function "
      ]
    },
    {
      "cell_type": "code",
      "execution_count": 27,
      "metadata": {
        "id": "O5znobgu9t4a"
      },
      "outputs": [],
      "source": [
        "def grad(X,y,w):\n",
        "  y_pred = predict(X,w)\n",
        "  delta = y_pred-y \n",
        "  return np.dot(X.T,delta) / X.shape[0]\n"
      ]
    },
    {
      "attachments": {},
      "cell_type": "markdown",
      "metadata": {},
      "source": [
        "Gradient Descent(full batch)"
      ]
    },
    {
      "cell_type": "code",
      "execution_count": 24,
      "metadata": {
        "id": "2juOqS2I-rBK"
      },
      "outputs": [],
      "source": [
        "def gradient_descent(X, y, lr=0.01, epoch=100):\n",
        "    w = np.zeros((X.shape[1], y.shape[1]))\n",
        "    historis = []\n",
        "    for i in range(epoch):\n",
        "        dw = grad(X, y, w)\n",
        "        w = w - lr*dw\n",
        "        historis.append(loss(X, y, w))\n",
        "    print(f'Loss Cross Entropy : {loss(X, y, w)}')\n",
        "    return historis, w"
      ]
    },
    {
      "attachments": {},
      "cell_type": "markdown",
      "metadata": {},
      "source": [
        "Gradient Descent(Mini Batch)"
      ]
    },
    {
      "cell_type": "code",
      "execution_count": 25,
      "metadata": {},
      "outputs": [],
      "source": [
        "def mini_batch_sgd(X,y,lr = 0.01 , batch_size = 64,epochs=1000):\n",
        "    w = np.zeros((X.shape[1],y.shape[1]))\n",
        "    historis = []\n",
        "    for i in range(epochs):\n",
        "        idx = np.random.choice(X.shape[0],batch_size,replace=False)\n",
        "        X_batch = X[idx]\n",
        "        y_batch = y[idx]\n",
        "        dw = grad(X_batch,y_batch,w) / batch_size\n",
        "        w = w-lr*dw\n",
        "        historis.append(loss(X_batch,y_batch,w))\n",
        "    print(\"Loss Cross Entropy : \" ,loss(X_batch,y_batch,w))\n",
        "    return historis,w"
      ]
    },
    {
      "attachments": {},
      "cell_type": "markdown",
      "metadata": {},
      "source": [
        "Train Full Batch"
      ]
    },
    {
      "cell_type": "code",
      "execution_count": 28,
      "metadata": {},
      "outputs": [
        {
          "name": "stdout",
          "output_type": "stream",
          "text": [
            "Loss Cross Entropy : 0.6121305167099463\n"
          ]
        }
      ],
      "source": [
        "loss_full, w_full = gradient_descent(x_train_scaled, y_train_one_hot,lr = 0.01,epoch=1000)"
      ]
    },
    {
      "cell_type": "code",
      "execution_count": 29,
      "metadata": {},
      "outputs": [
        {
          "data": {
            "image/png": "[encoded data removed]",
            "text/plain": [
              "<Figure size 640x480 with 1 Axes>"
            ]
          },
          "metadata": {},
          "output_type": "display_data"
        }
      ],
      "source": [
        "plt.plot(loss_full)\n",
        "plt.title(\"Full Batch Gradient Descent\")\n",
        "plt.xlabel(\"Epoch\", fontsize=14)\n",
        "plt.ylabel(\"Loss\", fontsize=14)\n",
        "plt.show()"
      ]
    },
    {
      "attachments": {},
      "cell_type": "markdown",
      "metadata": {},
      "source": [
        "Train with Mini Batch"
      ]
    },
    {
      "cell_type": "code",
      "execution_count": 30,
      "metadata": {},
      "outputs": [
        {
          "name": "stdout",
          "output_type": "stream",
          "text": [
            "Loss Cross Entropy :  2.02451287418741\n"
          ]
        }
      ],
      "source": [
        "loss_mini,w_mini = mini_batch_sgd(x_train_scaled,y_train_one_hot)"
      ]
    },
    {
      "cell_type": "code",
      "execution_count": 31,
      "metadata": {},
      "outputs": [
        {
          "data": {
            "image/png": "[encoded data removed]",
            "text/plain": [
              "<Figure size 640x480 with 1 Axes>"
            ]
          },
          "metadata": {},
          "output_type": "display_data"
        }
      ],
      "source": [
        "plt.plot(loss_mini)\n",
        "plt.title(\"Mini Batch Gradient Descent\")\n",
        "plt.xlabel(\"Epoch\", fontsize=14)\n",
        "plt.ylabel(\"Loss\", fontsize=14)\n",
        "plt.show()"
      ]
    },
    {
      "attachments": {},
      "cell_type": "markdown",
      "metadata": {},
      "source": [
        "4 . Ex 1 : Evaluate"
      ]
    },
    {
      "cell_type": "code",
      "execution_count": 32,
      "metadata": {},
      "outputs": [],
      "source": [
        "def predict_classes(X,w):\n",
        "  y_pred = predict(X,w)\n",
        "  y_pred = np.argmax(y_pred,axis=1)\n",
        "  return y_pred"
      ]
    },
    {
      "cell_type": "code",
      "execution_count": 35,
      "metadata": {
        "id": "lWH2z6mGAbdt"
      },
      "outputs": [],
      "source": [
        "def evaluate(y_true, y_pred):\n",
        "    tp, tn, fp, fn = 0, 0, 0, 0\n",
        "    for i in range(len(y_true)):\n",
        "        if(y_true[i] == y_pred[i]):\n",
        "            if(y_pred[i] == 1):\n",
        "                tp += 1\n",
        "            else:\n",
        "                tn += 1\n",
        "        else:\n",
        "            if(y_pred[i] == 1):\n",
        "                fp += 1\n",
        "            else:\n",
        "                fn += 1\n",
        "    accuracy = (tp + tn) / (tp+tn+fp+fn)\n",
        "    precision = tp/(tp+fp)\n",
        "    recall = tp/(tp+fn)\n",
        "    f1_score = 2*precision*accuracy/(precision+accuracy)\n",
        "    print(\"Accuracy : \",accuracy)\n",
        "    print(\"Precision : \",precision)\n",
        "    print(\"Recall : \",recall)\n",
        "    print(\"f1_score : \",f1_score)\n",
        "    "
      ]
    },
    {
      "attachments": {},
      "cell_type": "markdown",
      "metadata": {},
      "source": [
        "Mini Batch"
      ]
    },
    {
      "cell_type": "code",
      "execution_count": 36,
      "metadata": {},
      "outputs": [
        {
          "name": "stdout",
          "output_type": "stream",
          "text": [
            "Accuracy :  0.8605\n",
            "Precision :  0.8645777299623454\n",
            "Recall :  0.4661397911832947\n",
            "f1_score :  0.8625340455225022\n"
          ]
        }
      ],
      "source": [
        "y_pred = predict_classes(x_train_scaled,w_full)\n",
        "evaluate(y_train,y_pred)"
      ]
    },
    {
      "attachments": {},
      "cell_type": "markdown",
      "metadata": {},
      "source": [
        "Full Batch"
      ]
    },
    {
      "cell_type": "code",
      "execution_count": 37,
      "metadata": {},
      "outputs": [
        {
          "name": "stdout",
          "output_type": "stream",
          "text": [
            "Accuracy :  0.87\n",
            "Precision :  0.9069767441860465\n",
            "Recall :  0.4789473684210526\n",
            "f1_score :  0.8881036513545347\n"
          ]
        }
      ],
      "source": [
        "y_pred = predict_classes(x_test_scaled,w_full)\n",
        "evaluate(y_test,y_pred)"
      ]
    },
    {
      "attachments": {},
      "cell_type": "markdown",
      "metadata": {},
      "source": [
        "5 Ex2 : Class \"LogisticRegression\""
      ]
    },
    {
      "cell_type": "code",
      "execution_count": 38,
      "metadata": {},
      "outputs": [],
      "source": [
        "class LogisticRegression:\n",
        "    def __init__(self, lr=0.01, epochs=1000):\n",
        "        self.lr = lr\n",
        "        self.epochs = epochs\n",
        "    def softmax(self, z):\n",
        "        return np.exp(z)/np.sum(np.exp(z), axis=1, keepdims=True)\n",
        "    def predict(self, X, w):\n",
        "        z = np.dot(X, w)\n",
        "        return self.softmax(z)\n",
        "    def loss(self, X, y, w):\n",
        "        y_hat = self.predict(X, w)\n",
        "        return -np.sum(y*np.log(y_hat))/y.shape[0]\n",
        "    def grad(self, X, y, w):\n",
        "        y_hat = self.predict(X, w)\n",
        "        dw = np.dot(X.T, y_hat-y) / X.shape[0]\n",
        "        return dw\n",
        "    def gradient_descent(self, X, y):\n",
        "        w = np.zeros((X.shape[1], y.shape[1]))\n",
        "        historis = []\n",
        "        for i in range(self.epochs):\n",
        "            w = w - self.lr*self.grad(X, y, w)\n",
        "            historis.append(self.loss(X, y, w))\n",
        "        print(f\"Loss Cross Entropy : {self.loss(X, y, w)}\")\n",
        "        return historis, w"
      ]
    },
    {
      "attachments": {},
      "cell_type": "markdown",
      "metadata": {},
      "source": [
        "Creat Model"
      ]
    },
    {
      "cell_type": "code",
      "execution_count": 39,
      "metadata": {},
      "outputs": [],
      "source": [
        "model = LogisticRegression()"
      ]
    },
    {
      "cell_type": "code",
      "execution_count": 40,
      "metadata": {},
      "outputs": [
        {
          "name": "stdout",
          "output_type": "stream",
          "text": [
            "Loss Cross Entropy : 0.6121305167099463\n"
          ]
        }
      ],
      "source": [
        "l_model, w_model = model.gradient_descent(x_train_scaled, y_train_one_hot)"
      ]
    },
    {
      "attachments": {},
      "cell_type": "markdown",
      "metadata": {},
      "source": [
        "Evaluate"
      ]
    },
    {
      "cell_type": "code",
      "execution_count": 41,
      "metadata": {},
      "outputs": [
        {
          "name": "stdout",
          "output_type": "stream",
          "text": [
            "Accuracy :  0.87\n",
            "Precision :  0.9069767441860465\n",
            "Recall :  0.4789473684210526\n",
            "f1_score :  0.8881036513545347\n"
          ]
        }
      ],
      "source": [
        "y_pred = predict_classes(x_test_scaled,w_model)\n",
        "evaluate(y_test,y_pred)"
      ]
    },
    {
      "attachments": {},
      "cell_type": "markdown",
      "metadata": {},
      "source": [
        "Ex3 : Class \"LogisticRegression_v2\""
      ]
    },
    {
      "cell_type": "code",
      "execution_count": 42,
      "metadata": {},
      "outputs": [],
      "source": [
        "class LogisticRegression_v2:\n",
        "    def __init__(self, lr=0.01, epochs=1000, add_bias=True):\n",
        "        self.lr = lr\n",
        "        self.epochs = epochs\n",
        "        self.add_bias = add_bias\n",
        "    def addBias(self, X):\n",
        "        return np.hstack((np.ones((X.shape[0], 1)), X))\n",
        "    def softmax(self, z):\n",
        "        return np.exp(z)/np.sum(np.exp(z), axis=1, keepdims=True)\n",
        "    def predict(self, X, w):\n",
        "        z = np.dot(X, w)\n",
        "        return self.softmax(z)\n",
        "    def loss(self, X, y, w):\n",
        "        y_hat = self.predict(X, w)\n",
        "        return -np.sum(y*np.log(y_hat))/y.shape[0]\n",
        "    def grad(self, X, y, w):\n",
        "        y_hat = self.predict(X, w)\n",
        "        dw = np.dot(X.T, y_hat-y) / X.shape[0]\n",
        "        return dw\n",
        "    def gradient_descent(self, X, y):\n",
        "        if self.add_bias:\n",
        "            X = self.addBias(X)\n",
        "        w = np.zeros((X.shape[1], y.shape[1]))\n",
        "        loss_hist = []\n",
        "        for i in range(self.epochs):\n",
        "            w = w - self.lr*self.grad(X, y, w)\n",
        "            loss_hist.append(self.loss(X, y, w))\n",
        "        print(f\"Loss Cross Entropy : {self.loss(X, y, w)}\")\n",
        "        return loss_hist, w"
      ]
    }
  ],
  "metadata": {
    "colab": {
      "provenance": []
    },
    "kernelspec": {
      "display_name": "Python 3",
      "name": "python3"
    },
    "language_info": {
      "codemirror_mode": {
        "name": "ipython",
        "version": 3
      },
      "file_extension": ".py",
      "mimetype": "text/x-python",
      "name": "python",
      "nbconvert_exporter": "python",
      "pygments_lexer": "ipython3",
      "version": "3.8.16"
    }
  },
  "nbformat": 4,
  "nbformat_minor": 0
}
