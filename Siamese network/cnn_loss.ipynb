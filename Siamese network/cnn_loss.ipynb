{
 "cells": [
  {
   "cell_type": "code",
   "execution_count": 4,
   "metadata": {},
   "outputs": [
    {
     "name": "stdout",
     "output_type": "stream",
     "text": [
      "(60000, 28, 28)\n",
      "(10000, 28, 28)\n",
      "(60000,)\n"
     ]
    }
   ],
   "source": [
    "from tensorflow.keras.datasets.mnist import load_data\n",
    "\n",
    "(X_train,y_train) , (X_test,y_test) =load_data()\n",
    "\n",
    "print(X_train.shape)\n",
    "print(X_test.shape)\n",
    "print(y_train.shape)"
   ]
  },
  {
   "cell_type": "code",
   "execution_count": 5,
   "metadata": {},
   "outputs": [
    {
     "name": "stdout",
     "output_type": "stream",
     "text": [
      "Model: \"functional_3\"\n",
      "__________________________________________________________________________________________________\n",
      "Layer (type)                    Output Shape         Param #     Connected to                     \n",
      "==================================================================================================\n",
      "input_2 (InputLayer)            [(None, 28, 28, 1)]  0                                            \n",
      "__________________________________________________________________________________________________\n",
      "input_3 (InputLayer)            [(None, 28, 28, 1)]  0                                            \n",
      "__________________________________________________________________________________________________\n",
      "functional_1 (Functional)       (None, 2)            43442       input_2[0][0]                    \n",
      "                                                                 input_3[0][0]                    \n",
      "__________________________________________________________________________________________________\n",
      "tf_op_layer_Sub (TensorFlowOpLa [(None, 2)]          0           functional_1[0][0]               \n",
      "                                                                 functional_1[1][0]               \n",
      "__________________________________________________________________________________________________\n",
      "tf_op_layer_Square (TensorFlowO [(None, 2)]          0           tf_op_layer_Sub[0][0]            \n",
      "__________________________________________________________________________________________________\n",
      "tf_op_layer_Sum (TensorFlowOpLa [(None, 1)]          0           tf_op_layer_Square[0][0]         \n",
      "__________________________________________________________________________________________________\n",
      "tf_op_layer_Minimum (TensorFlow [(None, 1)]          0           tf_op_layer_Sum[0][0]            \n",
      "__________________________________________________________________________________________________\n",
      "tf_op_layer_Maximum (TensorFlow [(None, 1)]          0           tf_op_layer_Minimum[0][0]        \n",
      "__________________________________________________________________________________________________\n",
      "tf_op_layer_Sqrt (TensorFlowOpL [(None, 1)]          0           tf_op_layer_Maximum[0][0]        \n",
      "==================================================================================================\n",
      "Total params: 43,442\n",
      "Trainable params: 43,442\n",
      "Non-trainable params: 0\n",
      "__________________________________________________________________________________________________\n",
      "Model: \"functional_1\"\n",
      "_________________________________________________________________\n",
      "Layer (type)                 Output Shape              Param #   \n",
      "=================================================================\n",
      "input_1 (InputLayer)         [(None, 28, 28, 1)]       0         \n",
      "_________________________________________________________________\n",
      "conv2d (Conv2D)              (None, 26, 26, 8)         80        \n",
      "_________________________________________________________________\n",
      "max_pooling2d (MaxPooling2D) (None, 13, 13, 8)         0         \n",
      "_________________________________________________________________\n",
      "flatten (Flatten)            (None, 1352)              0         \n",
      "_________________________________________________________________\n",
      "dense (Dense)                (None, 32)                43296     \n",
      "_________________________________________________________________\n",
      "dense_1 (Dense)              (None, 2)                 66        \n",
      "=================================================================\n",
      "Total params: 43,442\n",
      "Trainable params: 43,442\n",
      "Non-trainable params: 0\n",
      "_________________________________________________________________\n"
     ]
    }
   ],
   "source": [
    "from tensorflow.keras.layers import *\n",
    "from tensorflow.keras.models import Model\n",
    "from tensorflow.keras import backend as K \n",
    "\n",
    "inp = Input(shape=(28,28,1))\n",
    "\n",
    "x = Conv2D(filters=8 ,kernel_size=3, activation='relu')(inp)\n",
    "x = MaxPooling2D(pool_size= (2,2))(x)\n",
    "\n",
    "x =Flatten()(x)\n",
    "x =Dense(units = 32,activation='relu')(x)\n",
    "x = Dense(units =2)(x)\n",
    "\n",
    "cnn = Model(inputs = inp , outputs = x )\n",
    "\n",
    "\n",
    "img1 =Input(shape=(28,28,1))\n",
    "img2 = Input(shape=(28,28,1))\n",
    "\n",
    "f1 = cnn(img1)\n",
    "f2 = cnn(img2)\n",
    "\n",
    "d = K.sqrt(K.sum(K.square(f1-f2),axis =1 ,keepdims=True))\n",
    "\n",
    "model = Model(inputs = (img1,img2),outputs = d)\n",
    "model.summary()\n",
    "cnn.summary()\n",
    "\n",
    "def loss(y_true,y_pred):\n",
    "    proba = K.exp(-K.square(y_pred))\n",
    "    return -K.mean(y_true*K.log(proba)+(1-y_true)*K.log(1-proba))\n",
    "\n",
    "def loss1(y_true,y_pred):\n",
    "    return K.mean(y_true*K.square(y_pred)+(1-y_true)*K.square(K.maximum(1.0-y_pred,0)))\n",
    "\n",
    "model.compile(optimizer='adam',loss = loss1)"
   ]
  },
  {
   "attachments": {},
   "cell_type": "markdown",
   "metadata": {},
   "source": [
    "Make all pairs or other strategies ; some innovation here"
   ]
  },
  {
   "cell_type": "code",
   "execution_count": null,
   "metadata": {},
   "outputs": [],
   "source": [
    "import numpy as np \n",
    "from matplotlib import pyplot as plt\n",
    "def generator(X,y,k=8):\n",
    "    unique_labels = np.unique(y)\n",
    "    while True:\n",
    "        X1 = []\n",
    "        X2 = []\n",
    "        y_batch = []\n",
    "        for label in unique_labels :\n",
    "            label_idx = np.where(y==label)[0]\n",
    "            other_labels =set(unique_labels)-{label}\n",
    "            for i in range(k):\n",
    "                i1 = np.random.choice(label_idx)\n",
    "                i2 = np.random.choice(label_idx)\n",
    "                # i1 must be different from i2\n",
    "                \n",
    "                while i1 == i2 :\n",
    "                    #i1 = np.random.choice(label_idx)\n",
    "                    i2 = np.random.choice(label_idx)\n",
    "                    \n",
    "                # create positive example \n",
    "                X1.append(X[i1][:,:,None])\n",
    "                X2.append(X[i2][:,:,None])\n",
    "                y_batch.append(1.0)\n",
    "                \n",
    "                # create negative example\n",
    "                i1 = np.random.choice(label_idx)\n",
    "                my_label = np.random.choice(list(other_labels))\n",
    "                i2 = np.random.choice(list(np.where(y == my_label)[0]))\n",
    "                X1.append(X[i1][:,:,None])\n",
    "                X2.append(X[i2][:,:,None])\n",
    "                y_batch.append(0.0)\n",
    "        \n",
    "        yield [np.array(X1)/255.,np.array(X2)/255.],np.array(y_batch) \n",
    "            \n",
    "                \n",
    "                    \n",
    "                    \n",
    "                    "
   ]
  }
 ],
 "metadata": {
  "kernelspec": {
   "display_name": "ml",
   "language": "python",
   "name": "python3"
  },
  "language_info": {
   "codemirror_mode": {
    "name": "ipython",
    "version": 3
   },
   "file_extension": ".py",
   "mimetype": "text/x-python",
   "name": "python",
   "nbconvert_exporter": "python",
   "pygments_lexer": "ipython3",
   "version": "3.8.16"
  },
  "orig_nbformat": 4
 },
 "nbformat": 4,
 "nbformat_minor": 2
}
