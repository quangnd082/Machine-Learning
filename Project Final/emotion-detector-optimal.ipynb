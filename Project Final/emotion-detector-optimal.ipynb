{
 "cells": [
  {
   "cell_type": "code",
   "execution_count": 1,
   "metadata": {
    "_cell_guid": "b1076dfc-b9ad-4769-8c92-a6c4dae69d19",
    "_uuid": "8f2839f25d086af736a60e9eeb907d3b93b6e0e5",
    "execution": {
     "iopub.execute_input": "2023-05-15T08:26:59.916643Z",
     "iopub.status.busy": "2023-05-15T08:26:59.915827Z",
     "iopub.status.idle": "2023-05-15T08:27:05.420746Z",
     "shell.execute_reply": "2023-05-15T08:27:05.419903Z",
     "shell.execute_reply.started": "2023-05-11T07:30:24.819293Z"
    },
    "papermill": {
     "duration": 5.52872,
     "end_time": "2023-05-15T08:27:05.420955",
     "exception": false,
     "start_time": "2023-05-15T08:26:59.892235",
     "status": "completed"
    },
    "tags": []
   },
   "outputs": [],
   "source": [
    "import glob\n",
    "import shutil\n",
    "import cv2 \n",
    "from PIL import Image\n",
    "import PIL\n",
    "import os\n",
    "import numpy as np\n",
    "import seaborn as sns\n",
    "import matplotlib.pyplot as plt\n",
    "import random \n",
    "from sklearn.model_selection import train_test_split\n",
    "\n",
    "import warnings\n",
    "# Ignore waring\n",
    "warnings.filterwarnings('ignore')\n"
   ]
  },
  {
   "cell_type": "code",
   "execution_count": null,
   "metadata": {},
   "outputs": [],
   "source": [
    "emotion_path = ['/angry/*', '/disgust/*', '/fear/*', '/happy/*', '/sad/*', '/surprise/*', '/neutral/*']\n"
   ]
  },
  {
   "cell_type": "code",
   "execution_count": null,
   "metadata": {},
   "outputs": [],
   "source": [
    "train_path = 'E:/A Study/Year3-2/MachineLearning/lab4/emotions_data/images/train'\n"
   ]
  },
  {
   "cell_type": "code",
   "execution_count": null,
   "metadata": {},
   "outputs": [],
   "source": [
    "X = []\n",
    "y= []\n",
    "for i, path in enumerate(emotion_path):\n",
    "  for name in glob.glob(train_path+path):\n",
    "    img = cv2.imread(name)\n",
    "    img = cv2.cvtColor(img,cv2.COLOR_BGR2GRAY)\n",
    "    img = cv2.resize(img, (48,48))\n",
    "    X.append((img))\n",
    "    y.append(i)\n",
    "len(X)\n"
   ]
  },
  {
   "cell_type": "code",
   "execution_count": null,
   "metadata": {},
   "outputs": [],
   "source": [
    "X = np.array(X)\n",
    "y = np.array(y)"
   ]
  },
  {
   "cell_type": "code",
   "execution_count": null,
   "metadata": {},
   "outputs": [],
   "source": [
    "(X_train,X_test,y_train,y_test) = train_test_split(X,y,test_size=0.2,random_state=100)"
   ]
  },
  {
   "cell_type": "code",
   "execution_count": null,
   "metadata": {},
   "outputs": [],
   "source": [
    "print( X_train.shape, X_test.shape,y_train.shape,y_test.shape)"
   ]
  },
  {
   "cell_type": "code",
   "execution_count": null,
   "metadata": {},
   "outputs": [],
   "source": [
    "X_train = X_train /255\n",
    "X_test_scaled = X_test / 255"
   ]
  },
  {
   "cell_type": "code",
   "execution_count": null,
   "metadata": {},
   "outputs": [],
   "source": [
    "from sklearn.preprocessing import OneHotEncoder\n",
    "encoder = OneHotEncoder()\n",
    "encoder.fit(y_train.reshape(-1,1))\n",
    "y_train = encoder.transform(y_train.reshape(-1,1)).toarray()\n",
    "y_test = encoder.transform(y_test.reshape(-1,1)).toarray()"
   ]
  },
  {
   "cell_type": "code",
   "execution_count": null,
   "metadata": {},
   "outputs": [],
   "source": [
    "import numpy as np\n",
    "from matplotlib import pyplot as plt\n",
    "import tensorflow as tf\n",
    "import keras\n",
    "from keras.preprocessing import image\n",
    "from keras.models import Sequential\n",
    "from keras.layers import Conv2D, MaxPool2D, Flatten,Dense,Dropout,BatchNormalization\n",
    "import cv2"
   ]
  },
  {
   "cell_type": "code",
   "execution_count": 7,
   "metadata": {
    "execution": {
     "iopub.execute_input": "2023-05-15T08:27:32.495232Z",
     "iopub.status.busy": "2023-05-15T08:27:32.490007Z",
     "iopub.status.idle": "2023-05-15T08:27:35.101275Z",
     "shell.execute_reply": "2023-05-15T08:27:35.100710Z",
     "shell.execute_reply.started": "2023-05-11T07:30:31.064258Z"
    },
    "papermill": {
     "duration": 2.636283,
     "end_time": "2023-05-15T08:27:35.101433",
     "exception": false,
     "start_time": "2023-05-15T08:27:32.465150",
     "status": "completed"
    },
    "tags": []
   },
   "outputs": [],
   "source": [
    "model= tf.keras.models.Sequential()\n",
    "model.add(Conv2D(32, kernel_size=(3, 3), padding='same', activation='relu', input_shape=(48, 48,1)))\n",
    "model.add(Conv2D(64,(3,3), padding='same', activation='relu' ))\n",
    "model.add(BatchNormalization())\n",
    "model.add(MaxPool2D(pool_size=(2, 2)))\n",
    "model.add(Dropout(0.25))\n",
    "\n",
    "model.add(Conv2D(128,(5,5), padding='same', activation='relu'))\n",
    "model.add(BatchNormalization())\n",
    "model.add(MaxPool2D(pool_size=(2, 2)))\n",
    "model.add(Dropout(0.25))\n",
    "    \n",
    "model.add(Conv2D(512,(3,3), padding='same', activation='relu', kernel_regularizer=regularizers.l2(0.01)))\n",
    "model.add(BatchNormalization())\n",
    "model.add(MaxPool2D(pool_size=(2, 2)))\n",
    "model.add(Dropout(0.25))\n",
    "\n",
    "model.add(Conv2D(512,(3,3), padding='same', activation='relu', kernel_regularizer=regularizers.l2(0.01)))\n",
    "model.add(BatchNormalization())\n",
    "model.add(MaxPool2D(pool_size=(2, 2)))\n",
    "model.add(Dropout(0.25))\n",
    "\n",
    "model.add(Flatten()) \n",
    "model.add(Dense(256,activation = 'relu'))\n",
    "model.add(BatchNormalization())\n",
    "model.add(Dropout(0.25))\n",
    "    \n",
    "model.add(Dense(512,activation = 'relu'))\n",
    "model.add(BatchNormalization())\n",
    "model.add(Dropout(0.25))\n",
    "\n",
    "model.add(Dense(7, activation='softmax'))\n",
    "\n",
    "model.summary()"
   ]
  },
  {
   "cell_type": "code",
   "execution_count": null,
   "metadata": {},
   "outputs": [],
   "source": [
    "learning_rate = 0.0001  # Tốc độ học ban đầu\n",
    "\n",
    "# Khởi tạo learning rate scheduler\n",
    "optimizer1 = tf.keras.optimizers.Adam(learning_rate = 0.0001)\n",
    "\n",
    "model.compile(optimizer = optimizer1, loss = 'categorical_crossentropy',metrics =['accuracy'])\n",
    "\n"
   ]
  },
  {
   "cell_type": "code",
   "execution_count": 9,
   "metadata": {
    "execution": {
     "iopub.execute_input": "2023-05-15T08:27:35.181042Z",
     "iopub.status.busy": "2023-05-15T08:27:35.178762Z",
     "iopub.status.idle": "2023-05-15T08:27:35.192350Z",
     "shell.execute_reply": "2023-05-15T08:27:35.191596Z",
     "shell.execute_reply.started": "2023-05-11T07:30:31.259239Z"
    },
    "papermill": {
     "duration": 0.034772,
     "end_time": "2023-05-15T08:27:35.192540",
     "exception": false,
     "start_time": "2023-05-15T08:27:35.157768",
     "status": "completed"
    },
    "tags": []
   },
   "outputs": [
    {
     "name": "stdout",
     "output_type": "stream",
     "text": [
      "Model: \"sequential\"\n",
      "_________________________________________________________________\n",
      "Layer (type)                 Output Shape              Param #   \n",
      "=================================================================\n",
      "conv2d (Conv2D)              (None, 48, 48, 32)        320       \n",
      "_________________________________________________________________\n",
      "conv2d_1 (Conv2D)            (None, 48, 48, 64)        18496     \n",
      "_________________________________________________________________\n",
      "batch_normalization (BatchNo (None, 48, 48, 64)        256       \n",
      "_________________________________________________________________\n",
      "max_pooling2d (MaxPooling2D) (None, 24, 24, 64)        0         \n",
      "_________________________________________________________________\n",
      "dropout (Dropout)            (None, 24, 24, 64)        0         \n",
      "_________________________________________________________________\n",
      "conv2d_2 (Conv2D)            (None, 24, 24, 128)       204928    \n",
      "_________________________________________________________________\n",
      "batch_normalization_1 (Batch (None, 24, 24, 128)       512       \n",
      "_________________________________________________________________\n",
      "max_pooling2d_1 (MaxPooling2 (None, 12, 12, 128)       0         \n",
      "_________________________________________________________________\n",
      "dropout_1 (Dropout)          (None, 12, 12, 128)       0         \n",
      "_________________________________________________________________\n",
      "conv2d_3 (Conv2D)            (None, 12, 12, 512)       590336    \n",
      "_________________________________________________________________\n",
      "batch_normalization_2 (Batch (None, 12, 12, 512)       2048      \n",
      "_________________________________________________________________\n",
      "max_pooling2d_2 (MaxPooling2 (None, 6, 6, 512)         0         \n",
      "_________________________________________________________________\n",
      "dropout_2 (Dropout)          (None, 6, 6, 512)         0         \n",
      "_________________________________________________________________\n",
      "conv2d_4 (Conv2D)            (None, 6, 6, 512)         2359808   \n",
      "_________________________________________________________________\n",
      "batch_normalization_3 (Batch (None, 6, 6, 512)         2048      \n",
      "_________________________________________________________________\n",
      "max_pooling2d_3 (MaxPooling2 (None, 3, 3, 512)         0         \n",
      "_________________________________________________________________\n",
      "dropout_3 (Dropout)          (None, 3, 3, 512)         0         \n",
      "_________________________________________________________________\n",
      "flatten (Flatten)            (None, 4608)              0         \n",
      "_________________________________________________________________\n",
      "dense (Dense)                (None, 256)               1179904   \n",
      "_________________________________________________________________\n",
      "batch_normalization_4 (Batch (None, 256)               1024      \n",
      "_________________________________________________________________\n",
      "dropout_4 (Dropout)          (None, 256)               0         \n",
      "_________________________________________________________________\n",
      "dense_1 (Dense)              (None, 512)               131584    \n",
      "_________________________________________________________________\n",
      "batch_normalization_5 (Batch (None, 512)               2048      \n",
      "_________________________________________________________________\n",
      "dropout_5 (Dropout)          (None, 512)               0         \n",
      "_________________________________________________________________\n",
      "dense_2 (Dense)              (None, 7)                 3591      \n",
      "=================================================================\n",
      "Total params: 4,496,903\n",
      "Trainable params: 4,492,935\n",
      "Non-trainable params: 3,968\n",
      "_________________________________________________________________\n"
     ]
    }
   ],
   "source": [
    "model.summary()"
   ]
  },
  {
   "cell_type": "code",
   "execution_count": 10,
   "metadata": {
    "execution": {
     "iopub.execute_input": "2023-05-15T08:27:35.231432Z",
     "iopub.status.busy": "2023-05-15T08:27:35.230748Z",
     "iopub.status.idle": "2023-05-15T09:01:08.998500Z",
     "shell.execute_reply": "2023-05-15T09:01:08.997875Z",
     "shell.execute_reply.started": "2023-05-11T07:30:31.283701Z"
    },
    "papermill": {
     "duration": 2013.788279,
     "end_time": "2023-05-15T09:01:08.998669",
     "exception": false,
     "start_time": "2023-05-15T08:27:35.210390",
     "status": "completed"
    },
    "tags": []
   },
   "outputs": [
    {
     "name": "stdout",
     "output_type": "stream",
     "text": [
      "Epoch 1/60\n",
      "359/359 [==============================] - 179s 488ms/step - loss: 9.6246 - accuracy: 0.1686 - val_loss: 8.5466 - val_accuracy: 0.1816\n",
      "Epoch 2/60\n",
      "359/359 [==============================] - 29s 82ms/step - loss: 8.4652 - accuracy: 0.2153 - val_loss: 7.4930 - val_accuracy: 0.2235\n",
      "Epoch 3/60\n",
      "359/359 [==============================] - 29s 82ms/step - loss: 7.3868 - accuracy: 0.2423 - val_loss: 6.4248 - val_accuracy: 0.2807\n",
      "Epoch 4/60\n",
      "359/359 [==============================] - 30s 83ms/step - loss: 6.3658 - accuracy: 0.2583 - val_loss: 5.4589 - val_accuracy: 0.3331\n",
      "Epoch 5/60\n",
      "359/359 [==============================] - 30s 82ms/step - loss: 5.4080 - accuracy: 0.2926 - val_loss: 4.7317 - val_accuracy: 0.3275\n",
      "Epoch 6/60\n",
      "359/359 [==============================] - 29s 82ms/step - loss: 4.6157 - accuracy: 0.3119 - val_loss: 4.2784 - val_accuracy: 0.3135\n",
      "Epoch 7/60\n",
      "359/359 [==============================] - 30s 83ms/step - loss: 3.9306 - accuracy: 0.3566 - val_loss: 3.4045 - val_accuracy: 0.4022\n",
      "Epoch 8/60\n",
      "359/359 [==============================] - 30s 84ms/step - loss: 3.4107 - accuracy: 0.3764 - val_loss: 2.9405 - val_accuracy: 0.4295\n",
      "Epoch 9/60\n",
      "359/359 [==============================] - 30s 82ms/step - loss: 2.9960 - accuracy: 0.4035 - val_loss: 2.6626 - val_accuracy: 0.4385\n",
      "Epoch 10/60\n",
      "359/359 [==============================] - 30s 84ms/step - loss: 2.6877 - accuracy: 0.4189 - val_loss: 2.4548 - val_accuracy: 0.4462\n",
      "Epoch 11/60\n",
      "359/359 [==============================] - 30s 84ms/step - loss: 2.4415 - accuracy: 0.4370 - val_loss: 2.3124 - val_accuracy: 0.4504\n",
      "Epoch 12/60\n",
      "359/359 [==============================] - 30s 83ms/step - loss: 2.2286 - accuracy: 0.4693 - val_loss: 2.1109 - val_accuracy: 0.4853\n",
      "Epoch 13/60\n",
      "359/359 [==============================] - 30s 84ms/step - loss: 2.0704 - accuracy: 0.4854 - val_loss: 2.0239 - val_accuracy: 0.5014\n",
      "Epoch 14/60\n",
      "359/359 [==============================] - 36s 100ms/step - loss: 1.9512 - accuracy: 0.4937 - val_loss: 1.7565 - val_accuracy: 0.5524\n",
      "Epoch 15/60\n",
      "359/359 [==============================] - 36s 101ms/step - loss: 1.8664 - accuracy: 0.5051 - val_loss: 1.6924 - val_accuracy: 0.5440\n",
      "Epoch 16/60\n",
      "359/359 [==============================] - 37s 102ms/step - loss: 1.7835 - accuracy: 0.5223 - val_loss: 1.8300 - val_accuracy: 0.5279\n",
      "Epoch 17/60\n",
      "359/359 [==============================] - 32s 89ms/step - loss: 1.7458 - accuracy: 0.5194 - val_loss: 1.6135 - val_accuracy: 0.5559\n",
      "Epoch 18/60\n",
      "359/359 [==============================] - 32s 90ms/step - loss: 1.6672 - accuracy: 0.5346 - val_loss: 1.5449 - val_accuracy: 0.5831\n",
      "Epoch 19/60\n",
      "359/359 [==============================] - 32s 88ms/step - loss: 1.6075 - accuracy: 0.5563 - val_loss: 1.5305 - val_accuracy: 0.5761\n",
      "Epoch 20/60\n",
      "359/359 [==============================] - 31s 87ms/step - loss: 1.5760 - accuracy: 0.5554 - val_loss: 1.4659 - val_accuracy: 0.5936\n",
      "Epoch 21/60\n",
      "359/359 [==============================] - 31s 85ms/step - loss: 1.5503 - accuracy: 0.5628 - val_loss: 1.5449 - val_accuracy: 0.5405\n",
      "Epoch 22/60\n",
      "359/359 [==============================] - 31s 85ms/step - loss: 1.5310 - accuracy: 0.5660 - val_loss: 1.4644 - val_accuracy: 0.5852\n",
      "Epoch 23/60\n",
      "359/359 [==============================] - 31s 87ms/step - loss: 1.5069 - accuracy: 0.5774 - val_loss: 1.4371 - val_accuracy: 0.6110\n",
      "Epoch 24/60\n",
      "359/359 [==============================] - 31s 85ms/step - loss: 1.4919 - accuracy: 0.5822 - val_loss: 1.4344 - val_accuracy: 0.6110\n",
      "Epoch 25/60\n",
      "359/359 [==============================] - 30s 84ms/step - loss: 1.4826 - accuracy: 0.5776 - val_loss: 1.4776 - val_accuracy: 0.5999\n",
      "Epoch 26/60\n",
      "359/359 [==============================] - 30s 84ms/step - loss: 1.4718 - accuracy: 0.5812 - val_loss: 1.4790 - val_accuracy: 0.5894\n",
      "Epoch 27/60\n",
      "359/359 [==============================] - 30s 84ms/step - loss: 1.4544 - accuracy: 0.5927 - val_loss: 1.4179 - val_accuracy: 0.5957\n",
      "Epoch 28/60\n",
      "359/359 [==============================] - 31s 86ms/step - loss: 1.4448 - accuracy: 0.5954 - val_loss: 1.4226 - val_accuracy: 0.5999\n",
      "Epoch 29/60\n",
      "359/359 [==============================] - 32s 89ms/step - loss: 1.4354 - accuracy: 0.5981 - val_loss: 1.4600 - val_accuracy: 0.5936\n",
      "Epoch 30/60\n",
      "359/359 [==============================] - 32s 89ms/step - loss: 1.4200 - accuracy: 0.6106 - val_loss: 1.3795 - val_accuracy: 0.6313\n",
      "Epoch 31/60\n",
      "359/359 [==============================] - 31s 88ms/step - loss: 1.4088 - accuracy: 0.6052 - val_loss: 1.4402 - val_accuracy: 0.6152\n",
      "Epoch 32/60\n",
      "359/359 [==============================] - 31s 88ms/step - loss: 1.4017 - accuracy: 0.6121 - val_loss: 1.4165 - val_accuracy: 0.6180\n",
      "Epoch 33/60\n",
      "359/359 [==============================] - 32s 88ms/step - loss: 1.4021 - accuracy: 0.6147 - val_loss: 1.4054 - val_accuracy: 0.6145\n",
      "Epoch 34/60\n",
      "359/359 [==============================] - 31s 86ms/step - loss: 1.3959 - accuracy: 0.6150 - val_loss: 1.4119 - val_accuracy: 0.6250\n",
      "Epoch 35/60\n",
      "359/359 [==============================] - 30s 84ms/step - loss: 1.3941 - accuracy: 0.6153 - val_loss: 1.3850 - val_accuracy: 0.6306\n",
      "Epoch 36/60\n",
      "359/359 [==============================] - 30s 84ms/step - loss: 1.3998 - accuracy: 0.6140 - val_loss: 1.3827 - val_accuracy: 0.6348\n",
      "Epoch 37/60\n",
      "359/359 [==============================] - 32s 89ms/step - loss: 1.3691 - accuracy: 0.6312 - val_loss: 1.4126 - val_accuracy: 0.6138\n",
      "Epoch 38/60\n",
      "359/359 [==============================] - 32s 89ms/step - loss: 1.3830 - accuracy: 0.6259 - val_loss: 1.3903 - val_accuracy: 0.6271\n",
      "Epoch 39/60\n",
      "359/359 [==============================] - 32s 90ms/step - loss: 1.3800 - accuracy: 0.6310 - val_loss: 1.4147 - val_accuracy: 0.6299\n",
      "Epoch 40/60\n",
      "359/359 [==============================] - 32s 88ms/step - loss: 1.3621 - accuracy: 0.6328 - val_loss: 1.3989 - val_accuracy: 0.6306\n",
      "Epoch 41/60\n",
      "359/359 [==============================] - 32s 88ms/step - loss: 1.3606 - accuracy: 0.6340 - val_loss: 1.4383 - val_accuracy: 0.6180\n",
      "Epoch 42/60\n",
      "359/359 [==============================] - 31s 86ms/step - loss: 1.3612 - accuracy: 0.6395 - val_loss: 1.4251 - val_accuracy: 0.6027\n",
      "Epoch 43/60\n",
      "359/359 [==============================] - 30s 84ms/step - loss: 1.3540 - accuracy: 0.6402 - val_loss: 1.4124 - val_accuracy: 0.6369\n",
      "Epoch 44/60\n",
      "359/359 [==============================] - 29s 81ms/step - loss: 1.3488 - accuracy: 0.6466 - val_loss: 1.4432 - val_accuracy: 0.6131\n",
      "Epoch 45/60\n",
      "359/359 [==============================] - 31s 85ms/step - loss: 1.3449 - accuracy: 0.6451 - val_loss: 1.3814 - val_accuracy: 0.6404\n",
      "Epoch 46/60\n",
      "359/359 [==============================] - 30s 82ms/step - loss: 1.3491 - accuracy: 0.6422 - val_loss: 1.4213 - val_accuracy: 0.6453\n",
      "Epoch 47/60\n",
      "359/359 [==============================] - 32s 88ms/step - loss: 1.3258 - accuracy: 0.6611 - val_loss: 1.3774 - val_accuracy: 0.6487\n",
      "Epoch 48/60\n",
      "359/359 [==============================] - 31s 85ms/step - loss: 1.3423 - accuracy: 0.6540 - val_loss: 1.4002 - val_accuracy: 0.6285\n",
      "Epoch 49/60\n",
      "359/359 [==============================] - 32s 89ms/step - loss: 1.3595 - accuracy: 0.6424 - val_loss: 1.4256 - val_accuracy: 0.6418\n",
      "Epoch 50/60\n",
      "359/359 [==============================] - 30s 82ms/step - loss: 1.3321 - accuracy: 0.6542 - val_loss: 1.4123 - val_accuracy: 0.6355\n",
      "Epoch 51/60\n",
      "359/359 [==============================] - 32s 88ms/step - loss: 1.3240 - accuracy: 0.6615 - val_loss: 1.4162 - val_accuracy: 0.6292\n",
      "Epoch 52/60\n",
      "359/359 [==============================] - 30s 82ms/step - loss: 1.3324 - accuracy: 0.6602 - val_loss: 1.3873 - val_accuracy: 0.6473\n",
      "Epoch 53/60\n",
      "359/359 [==============================] - 30s 82ms/step - loss: 1.3350 - accuracy: 0.6550 - val_loss: 1.4008 - val_accuracy: 0.6432\n",
      "Epoch 54/60\n",
      "359/359 [==============================] - 31s 87ms/step - loss: 1.3347 - accuracy: 0.6609 - val_loss: 1.4101 - val_accuracy: 0.6564\n",
      "Epoch 55/60\n",
      "359/359 [==============================] - 30s 85ms/step - loss: 1.3336 - accuracy: 0.6603 - val_loss: 1.3812 - val_accuracy: 0.6522\n",
      "Epoch 56/60\n",
      "359/359 [==============================] - 33s 92ms/step - loss: 1.3198 - accuracy: 0.6621 - val_loss: 1.3802 - val_accuracy: 0.6466\n",
      "Epoch 57/60\n",
      "359/359 [==============================] - 31s 86ms/step - loss: 1.3270 - accuracy: 0.6628 - val_loss: 1.4606 - val_accuracy: 0.6466\n",
      "Epoch 58/60\n",
      "359/359 [==============================] - 33s 91ms/step - loss: 1.3222 - accuracy: 0.6649 - val_loss: 1.4076 - val_accuracy: 0.6439\n",
      "Epoch 59/60\n",
      "359/359 [==============================] - 30s 83ms/step - loss: 1.3298 - accuracy: 0.6634 - val_loss: 1.4296 - val_accuracy: 0.6411\n",
      "Epoch 60/60\n",
      "359/359 [==============================] - 32s 89ms/step - loss: 1.3178 - accuracy: 0.6684 - val_loss: 1.4080 - val_accuracy: 0.6439\n"
     ]
    }
   ],
   "source": [
    "history = model.fit(x = train_generator,epochs = epochs,validation_data = validation_generator)"
   ]
  },
  {
   "cell_type": "code",
   "execution_count": 11,
   "metadata": {
    "execution": {
     "iopub.execute_input": "2023-05-15T09:01:23.837007Z",
     "iopub.status.busy": "2023-05-15T09:01:23.828118Z",
     "iopub.status.idle": "2023-05-15T09:01:24.168803Z",
     "shell.execute_reply": "2023-05-15T09:01:24.169303Z",
     "shell.execute_reply.started": "2023-05-11T08:01:15.408429Z"
    },
    "papermill": {
     "duration": 7.942185,
     "end_time": "2023-05-15T09:01:24.169471",
     "exception": false,
     "start_time": "2023-05-15T09:01:16.227286",
     "status": "completed"
    },
    "tags": []
   },
   "outputs": [
    {
     "data": {
      "image/png": "[encoded data removed]",
      "text/plain": [
       "<Figure size 864x288 with 2 Axes>"
      ]
     },
     "metadata": {
      "needs_background": "light"
     },
     "output_type": "display_data"
    }
   ],
   "source": [
    "fig , ax = plt.subplots(1,2)\n",
    "train_acc = history.history['accuracy']\n",
    "train_loss = history.history['loss']\n",
    "fig.set_size_inches(12,4)\n",
    "\n",
    "ax[0].plot(history.history['accuracy'])\n",
    "ax[0].plot(history.history['val_accuracy'])\n",
    "ax[0].set_title('Training Accuracy vs Validation Accuracy')\n",
    "ax[0].set_ylabel('Accuracy')\n",
    "ax[0].set_xlabel('Epoch')\n",
    "ax[0].legend(['Train', 'Validation'], loc='upper left')\n",
    "\n",
    "ax[1].plot(history.history['loss'])\n",
    "ax[1].plot(history.history['val_loss'])\n",
    "ax[1].set_title('Training Loss vs Validation Loss')\n",
    "ax[1].set_ylabel('Loss')\n",
    "ax[1].set_xlabel('Epoch')\n",
    "ax[1].legend(['Train', 'Validation'], loc='upper left')\n",
    "\n",
    "plt.show()"
   ]
  },
  {
   "cell_type": "code",
   "execution_count": 12,
   "metadata": {
    "execution": {
     "iopub.execute_input": "2023-05-15T09:01:38.407136Z",
     "iopub.status.busy": "2023-05-15T09:01:38.406222Z",
     "iopub.status.idle": "2023-05-15T09:01:38.559070Z",
     "shell.execute_reply": "2023-05-15T09:01:38.558453Z",
     "shell.execute_reply.started": "2023-05-11T08:01:15.773610Z"
    },
    "papermill": {
     "duration": 7.376206,
     "end_time": "2023-05-15T09:01:38.559311",
     "exception": false,
     "start_time": "2023-05-15T09:01:31.183105",
     "status": "completed"
    },
    "tags": []
   },
   "outputs": [],
   "source": [
    "model.save('model_optimal.h5')"
   ]
  },
  {
   "cell_type": "code",
   "execution_count": 14,
   "metadata": {
    "execution": {
     "iopub.execute_input": "2023-05-15T09:02:07.649866Z",
     "iopub.status.busy": "2023-05-15T09:02:07.647907Z",
     "iopub.status.idle": "2023-05-15T09:02:07.650552Z",
     "shell.execute_reply": "2023-05-15T09:02:07.651021Z",
     "shell.execute_reply.started": "2023-05-11T08:01:16.083023Z"
    },
    "papermill": {
     "duration": 7.127516,
     "end_time": "2023-05-15T09:02:07.651205",
     "exception": false,
     "start_time": "2023-05-15T09:02:00.523689",
     "status": "completed"
    },
    "tags": []
   },
   "outputs": [],
   "source": [
    "label_dict = {0:'Angry',1:'Disgust',2:'Fear',3:'Happy',4:'Neutral',5:'Sad',6:'Surprise'}"
   ]
  },
  {
   "cell_type": "code",
   "execution_count": 15,
   "metadata": {
    "execution": {
     "iopub.execute_input": "2023-05-15T09:02:21.798126Z",
     "iopub.status.busy": "2023-05-15T09:02:21.797296Z",
     "iopub.status.idle": "2023-05-15T09:02:22.042756Z",
     "shell.execute_reply": "2023-05-15T09:02:22.041822Z",
     "shell.execute_reply.started": "2023-05-11T08:01:16.091658Z"
    },
    "papermill": {
     "duration": 7.321855,
     "end_time": "2023-05-15T09:02:22.042906",
     "exception": false,
     "start_time": "2023-05-15T09:02:14.721051",
     "status": "completed"
    },
    "tags": []
   },
   "outputs": [
    {
     "name": "stdout",
     "output_type": "stream",
     "text": [
      "[3.936475e-06, 0.0, 0.99999607, 0.0, 0.0, 0.0, 0.0]\n"
     ]
    }
   ],
   "source": [
    "img = np.expand_dims(img,axis = 0) #makes image shape (1,48,48)\n",
    "img = img.reshape(1,48,48,1)\n",
    "result = model.predict(img)\n",
    "result = list(result[0])\n",
    "print(result)"
   ]
  },
  {
   "cell_type": "code",
   "execution_count": 16,
   "metadata": {
    "execution": {
     "iopub.execute_input": "2023-05-15T09:02:36.560780Z",
     "iopub.status.busy": "2023-05-15T09:02:36.558854Z",
     "iopub.status.idle": "2023-05-15T09:02:36.563061Z",
     "shell.execute_reply": "2023-05-15T09:02:36.561360Z",
     "shell.execute_reply.started": "2023-05-11T08:01:16.353991Z"
    },
    "papermill": {
     "duration": 7.00681,
     "end_time": "2023-05-15T09:02:36.563215",
     "exception": false,
     "start_time": "2023-05-15T09:02:29.556405",
     "status": "completed"
    },
    "tags": []
   },
   "outputs": [
    {
     "name": "stdout",
     "output_type": "stream",
     "text": [
      "Fear\n"
     ]
    }
   ],
   "source": [
    "img_index = result.index(max(result))\n",
    "print(label_dict[img_index])\n",
    "plt.show()"
   ]
  },
  {
   "cell_type": "code",
   "execution_count": 17,
   "metadata": {
    "execution": {
     "iopub.execute_input": "2023-05-15T09:02:50.838612Z",
     "iopub.status.busy": "2023-05-15T09:02:50.837829Z",
     "iopub.status.idle": "2023-05-15T09:03:19.613444Z",
     "shell.execute_reply": "2023-05-15T09:03:19.612892Z",
     "shell.execute_reply.started": "2023-05-11T08:01:16.364043Z"
    },
    "papermill": {
     "duration": 35.898688,
     "end_time": "2023-05-15T09:03:19.613590",
     "exception": false,
     "start_time": "2023-05-15T09:02:43.714902",
     "status": "completed"
    },
    "tags": []
   },
   "outputs": [
    {
     "name": "stdout",
     "output_type": "stream",
     "text": [
      "359/359 [==============================] - 27s 76ms/step - loss: 1.2135 - accuracy: 0.7076\n",
      "23/23 [==============================] - 1s 53ms/step - loss: 1.4080 - accuracy: 0.6439\n",
      "final train accuracy = 70.76 , validation accuracy = 64.39\n"
     ]
    }
   ],
   "source": [
    "train_loss, train_acc = model.evaluate(train_generator)\n",
    "test_loss, test_acc   = model.evaluate(validation_generator)\n",
    "print(\"final train accuracy = {:.2f} , validation accuracy = {:.2f}\".format(train_acc*100, test_acc*100))"
   ]
  },
  {
   "cell_type": "code",
   "execution_count": 18,
   "metadata": {
    "execution": {
     "iopub.execute_input": "2023-05-15T09:03:34.392280Z",
     "iopub.status.busy": "2023-05-15T09:03:34.391319Z",
     "iopub.status.idle": "2023-05-15T09:03:34.445527Z",
     "shell.execute_reply": "2023-05-15T09:03:34.444993Z",
     "shell.execute_reply.started": "2023-05-11T08:01:44.833095Z"
    },
    "papermill": {
     "duration": 7.509543,
     "end_time": "2023-05-15T09:03:34.445679",
     "exception": false,
     "start_time": "2023-05-15T09:03:26.936136",
     "status": "completed"
    },
    "tags": []
   },
   "outputs": [],
   "source": [
    "model.save_weights('model_weights.h5')"
   ]
  },
  {
   "cell_type": "code",
   "execution_count": null,
   "metadata": {
    "papermill": {
     "duration": 7.357002,
     "end_time": "2023-05-15T09:03:49.081195",
     "exception": false,
     "start_time": "2023-05-15T09:03:41.724193",
     "status": "completed"
    },
    "tags": []
   },
   "outputs": [],
   "source": []
  }
 ],
 "metadata": {
  "kernelspec": {
   "display_name": "Python 3",
   "language": "python",
   "name": "python3"
  },
  "language_info": {
   "codemirror_mode": {
    "name": "ipython",
    "version": 3
   },
   "file_extension": ".py",
   "mimetype": "text/x-python",
   "name": "python",
   "nbconvert_exporter": "python",
   "pygments_lexer": "ipython3",
   "version": "3.8.16"
  },
  "papermill": {
   "default_parameters": {},
   "duration": 2224.157473,
   "end_time": "2023-05-15T09:03:58.972369",
   "environment_variables": {},
   "exception": null,
   "input_path": "__notebook__.ipynb",
   "output_path": "__notebook__.ipynb",
   "parameters": {},
   "start_time": "2023-05-15T08:26:54.814896",
   "version": "2.2.2"
  }
 },
 "nbformat": 4,
 "nbformat_minor": 4
}
